{
 "cells": [
  {
   "cell_type": "markdown",
   "metadata": {},
   "source": [
    "# Health Promotion Administration\n",
    "# & CGRD\n",
    "# & 1.DM, 2.hypertension, 3.hyperlipidemia"
   ]
  },
  {
   "cell_type": "code",
   "execution_count": 1,
   "metadata": {},
   "outputs": [],
   "source": [
    "import numpy as np\n",
    "from utils import *"
   ]
  },
  {
   "cell_type": "code",
   "execution_count": 2,
   "metadata": {},
   "outputs": [
    {
     "data": {
      "text/plain": [
       "'C:\\\\Users\\\\user\\\\Desktop\\\\for github'"
      ]
     },
     "execution_count": 2,
     "metadata": {},
     "output_type": "execute_result"
    }
   ],
   "source": [
    "warnings.filterwarnings(\"ignore\")  \n",
    "os.getcwd()"
   ]
  },
  {
   "cell_type": "markdown",
   "metadata": {},
   "source": [
    "# Read csv- CGRD"
   ]
  },
  {
   "cell_type": "code",
   "execution_count": 3,
   "metadata": {},
   "outputs": [
    {
     "name": "stdout",
     "output_type": "stream",
     "text": [
      "<class 'pandas.core.frame.DataFrame'>\n",
      "RangeIndex: 268005 entries, 0 to 268004\n",
      "Columns: 114 entries, idcode to ICD_CODE\n",
      "dtypes: float64(20), int64(66), object(28)\n",
      "memory usage: 233.1+ MB\n",
      "<class 'pandas.core.frame.DataFrame'>\n",
      "RangeIndex: 271895 entries, 0 to 271894\n",
      "Columns: 114 entries, idcode to ICD_CODE\n",
      "dtypes: float64(20), int64(66), object(28)\n",
      "memory usage: 236.5+ MB\n",
      "<class 'pandas.core.frame.DataFrame'>\n",
      "RangeIndex: 274233 entries, 0 to 274232\n",
      "Columns: 114 entries, idcode to ICD_CODE\n",
      "dtypes: float64(17), int64(66), object(31)\n",
      "memory usage: 238.5+ MB\n"
     ]
    },
    {
     "data": {
      "text/html": [
       "<div>\n",
       "<style scoped>\n",
       "    .dataframe tbody tr th:only-of-type {\n",
       "        vertical-align: middle;\n",
       "    }\n",
       "\n",
       "    .dataframe tbody tr th {\n",
       "        vertical-align: top;\n",
       "    }\n",
       "\n",
       "    .dataframe thead th {\n",
       "        text-align: right;\n",
       "    }\n",
       "</style>\n",
       "<table border=\"1\" class=\"dataframe\">\n",
       "  <thead>\n",
       "    <tr style=\"text-align: right;\">\n",
       "      <th></th>\n",
       "      <th>idcode</th>\n",
       "      <th>breast</th>\n",
       "      <th>data_date</th>\n",
       "      <th>hosp</th>\n",
       "      <th>BC_n</th>\n",
       "      <th>bc_gp</th>\n",
       "      <th>FOBT</th>\n",
       "      <th>OC</th>\n",
       "      <th>birth_year</th>\n",
       "      <th>age</th>\n",
       "      <th>...</th>\n",
       "      <th>Colonscopy_past_date</th>\n",
       "      <th>Colorectal_cancer</th>\n",
       "      <th>CLNCDXDAT</th>\n",
       "      <th>CLNCDXDAT1</th>\n",
       "      <th>CAUSE</th>\n",
       "      <th>ICD</th>\n",
       "      <th>D_DATE</th>\n",
       "      <th>CAUSE_CNM</th>\n",
       "      <th>ICD_CODE</th>\n",
       "      <th>year</th>\n",
       "    </tr>\n",
       "  </thead>\n",
       "  <tbody>\n",
       "    <tr>\n",
       "      <th>274231</th>\n",
       "      <td>FFFF83BC5D8EBA54B38CD37DDD2A6B1AC8311471</td>\n",
       "      <td>NaN</td>\n",
       "      <td>201912</td>\n",
       "      <td>1132070011</td>\n",
       "      <td>N</td>\n",
       "      <td>NaN</td>\n",
       "      <td>NaN</td>\n",
       "      <td>2017-08-08</td>\n",
       "      <td>1964</td>\n",
       "      <td>55</td>\n",
       "      <td>...</td>\n",
       "      <td>NaN</td>\n",
       "      <td>0</td>\n",
       "      <td>NaN</td>\n",
       "      <td>NaN</td>\n",
       "      <td>NaN</td>\n",
       "      <td>NaN</td>\n",
       "      <td>NaN</td>\n",
       "      <td>NaN</td>\n",
       "      <td>NaN</td>\n",
       "      <td>2019</td>\n",
       "    </tr>\n",
       "    <tr>\n",
       "      <th>274232</th>\n",
       "      <td>FFFFAFA8D6A70AF762326FF3E6EBF5C5AEC56324</td>\n",
       "      <td>NaN</td>\n",
       "      <td>201909</td>\n",
       "      <td>1101010012</td>\n",
       "      <td>0</td>\n",
       "      <td>6.0</td>\n",
       "      <td>2017-03-02</td>\n",
       "      <td>NaN</td>\n",
       "      <td>1962</td>\n",
       "      <td>57</td>\n",
       "      <td>...</td>\n",
       "      <td>NaN</td>\n",
       "      <td>0</td>\n",
       "      <td>NaN</td>\n",
       "      <td>NaN</td>\n",
       "      <td>NaN</td>\n",
       "      <td>NaN</td>\n",
       "      <td>NaN</td>\n",
       "      <td>NaN</td>\n",
       "      <td>NaN</td>\n",
       "      <td>2019</td>\n",
       "    </tr>\n",
       "  </tbody>\n",
       "</table>\n",
       "<p>2 rows × 115 columns</p>\n",
       "</div>"
      ],
      "text/plain": [
       "                                          idcode breast  data_date  \\\n",
       "274231  FFFF83BC5D8EBA54B38CD37DDD2A6B1AC8311471    NaN     201912   \n",
       "274232  FFFFAFA8D6A70AF762326FF3E6EBF5C5AEC56324    NaN     201909   \n",
       "\n",
       "              hosp BC_n  bc_gp        FOBT          OC  birth_year  age  ...  \\\n",
       "274231  1132070011    N    NaN         NaN  2017-08-08        1964   55  ...   \n",
       "274232  1101010012    0    6.0  2017-03-02         NaN        1962   57  ...   \n",
       "\n",
       "        Colonscopy_past_date Colorectal_cancer  CLNCDXDAT CLNCDXDAT1  CAUSE  \\\n",
       "274231                   NaN                 0        NaN        NaN    NaN   \n",
       "274232                   NaN                 0        NaN        NaN    NaN   \n",
       "\n",
       "        ICD  D_DATE CAUSE_CNM ICD_CODE  year  \n",
       "274231  NaN     NaN       NaN      NaN  2019  \n",
       "274232  NaN     NaN       NaN      NaN  2019  \n",
       "\n",
       "[2 rows x 115 columns]"
      ]
     },
     "execution_count": 3,
     "metadata": {},
     "output_type": "execute_result"
    }
   ],
   "source": [
    "cgrd_2017 = pd.read_csv('data\\\\cgrd_2017.csv')\n",
    "cgrd_2018 = pd.read_csv('data\\\\cgrd_2018.csv')\n",
    "cgrd_2019 = pd.read_csv('data\\\\cgrd_2019.csv')\n",
    "\n",
    "cgrd_2017.info()\n",
    "cgrd_2018.info()\n",
    "cgrd_2019.info()\n",
    "\n",
    "cgrd_2017['year'] = 2017\n",
    "cgrd_2018['year'] = 2018\n",
    "cgrd_2019['year'] = 2019\n",
    "\n",
    "cgrd_2017.tail(2)\n",
    "cgrd_2018.tail(2)\n",
    "cgrd_2019.tail(2)"
   ]
  },
  {
   "cell_type": "code",
   "execution_count": 4,
   "metadata": {},
   "outputs": [
    {
     "data": {
      "text/html": [
       "<div>\n",
       "<style scoped>\n",
       "    .dataframe tbody tr th:only-of-type {\n",
       "        vertical-align: middle;\n",
       "    }\n",
       "\n",
       "    .dataframe tbody tr th {\n",
       "        vertical-align: top;\n",
       "    }\n",
       "\n",
       "    .dataframe thead th {\n",
       "        text-align: right;\n",
       "    }\n",
       "</style>\n",
       "<table border=\"1\" class=\"dataframe\">\n",
       "  <thead>\n",
       "    <tr style=\"text-align: right;\">\n",
       "      <th></th>\n",
       "      <th>idcode</th>\n",
       "      <th>breast</th>\n",
       "      <th>data_date</th>\n",
       "      <th>hosp</th>\n",
       "      <th>BC_n</th>\n",
       "      <th>bc_gp</th>\n",
       "      <th>FOBT</th>\n",
       "      <th>OC</th>\n",
       "      <th>birth_year</th>\n",
       "      <th>age</th>\n",
       "      <th>...</th>\n",
       "      <th>Colonscopy_past_date</th>\n",
       "      <th>Colorectal_cancer</th>\n",
       "      <th>CLNCDXDAT</th>\n",
       "      <th>CLNCDXDAT1</th>\n",
       "      <th>CAUSE</th>\n",
       "      <th>ICD</th>\n",
       "      <th>D_DATE</th>\n",
       "      <th>CAUSE_CNM</th>\n",
       "      <th>ICD_CODE</th>\n",
       "      <th>year</th>\n",
       "    </tr>\n",
       "  </thead>\n",
       "  <tbody>\n",
       "    <tr>\n",
       "      <th>814131</th>\n",
       "      <td>FFFF83BC5D8EBA54B38CD37DDD2A6B1AC8311471</td>\n",
       "      <td>NaN</td>\n",
       "      <td>201912</td>\n",
       "      <td>1132070011</td>\n",
       "      <td>N</td>\n",
       "      <td>NaN</td>\n",
       "      <td>NaN</td>\n",
       "      <td>2017-08-08</td>\n",
       "      <td>1964</td>\n",
       "      <td>55</td>\n",
       "      <td>...</td>\n",
       "      <td>NaN</td>\n",
       "      <td>0</td>\n",
       "      <td>NaN</td>\n",
       "      <td>NaN</td>\n",
       "      <td>NaN</td>\n",
       "      <td>NaN</td>\n",
       "      <td>NaN</td>\n",
       "      <td>NaN</td>\n",
       "      <td>NaN</td>\n",
       "      <td>2019</td>\n",
       "    </tr>\n",
       "    <tr>\n",
       "      <th>814132</th>\n",
       "      <td>FFFFAFA8D6A70AF762326FF3E6EBF5C5AEC56324</td>\n",
       "      <td>NaN</td>\n",
       "      <td>201909</td>\n",
       "      <td>1101010012</td>\n",
       "      <td>0</td>\n",
       "      <td>6.0</td>\n",
       "      <td>2017-03-02</td>\n",
       "      <td>NaN</td>\n",
       "      <td>1962</td>\n",
       "      <td>57</td>\n",
       "      <td>...</td>\n",
       "      <td>NaN</td>\n",
       "      <td>0</td>\n",
       "      <td>NaN</td>\n",
       "      <td>NaN</td>\n",
       "      <td>NaN</td>\n",
       "      <td>NaN</td>\n",
       "      <td>NaN</td>\n",
       "      <td>NaN</td>\n",
       "      <td>NaN</td>\n",
       "      <td>2019</td>\n",
       "    </tr>\n",
       "  </tbody>\n",
       "</table>\n",
       "<p>2 rows × 115 columns</p>\n",
       "</div>"
      ],
      "text/plain": [
       "                                          idcode breast  data_date  \\\n",
       "814131  FFFF83BC5D8EBA54B38CD37DDD2A6B1AC8311471    NaN     201912   \n",
       "814132  FFFFAFA8D6A70AF762326FF3E6EBF5C5AEC56324    NaN     201909   \n",
       "\n",
       "              hosp BC_n  bc_gp        FOBT          OC  birth_year  age  ...  \\\n",
       "814131  1132070011    N    NaN         NaN  2017-08-08        1964   55  ...   \n",
       "814132  1101010012    0    6.0  2017-03-02         NaN        1962   57  ...   \n",
       "\n",
       "        Colonscopy_past_date Colorectal_cancer  CLNCDXDAT CLNCDXDAT1  CAUSE  \\\n",
       "814131                   NaN                 0        NaN        NaN    NaN   \n",
       "814132                   NaN                 0        NaN        NaN    NaN   \n",
       "\n",
       "        ICD  D_DATE CAUSE_CNM ICD_CODE  year  \n",
       "814131  NaN     NaN       NaN      NaN  2019  \n",
       "814132  NaN     NaN       NaN      NaN  2019  \n",
       "\n",
       "[2 rows x 115 columns]"
      ]
     },
     "execution_count": 4,
     "metadata": {},
     "output_type": "execute_result"
    }
   ],
   "source": [
    "## concat 3 years\n",
    "cgrd_3y = pd.concat([cgrd_2017, cgrd_2018, cgrd_2019]).reset_index(drop=True)\n",
    "cgrd_3y.tail(2)"
   ]
  },
  {
   "cell_type": "markdown",
   "metadata": {},
   "source": [
    "# Select columns"
   ]
  },
  {
   "cell_type": "code",
   "execution_count": 5,
   "metadata": {},
   "outputs": [
    {
     "data": {
      "text/html": [
       "<div>\n",
       "<style scoped>\n",
       "    .dataframe tbody tr th:only-of-type {\n",
       "        vertical-align: middle;\n",
       "    }\n",
       "\n",
       "    .dataframe tbody tr th {\n",
       "        vertical-align: top;\n",
       "    }\n",
       "\n",
       "    .dataframe thead th {\n",
       "        text-align: right;\n",
       "    }\n",
       "</style>\n",
       "<table border=\"1\" class=\"dataframe\">\n",
       "  <thead>\n",
       "    <tr style=\"text-align: right;\">\n",
       "      <th></th>\n",
       "      <th>hosp</th>\n",
       "      <th>bc_gp</th>\n",
       "      <th>age_gp</th>\n",
       "      <th>oc_gp</th>\n",
       "      <th>pas_gp</th>\n",
       "      <th>sex</th>\n",
       "      <th>COUNTY_</th>\n",
       "      <th>hosp_shopping_logistic</th>\n",
       "      <th>CCI_DM_wo_chronic</th>\n",
       "      <th>CCI_DM_w_chronic</th>\n",
       "      <th>hypertension</th>\n",
       "      <th>hyperlipidemia</th>\n",
       "      <th>Hba1c</th>\n",
       "      <th>cholesterol</th>\n",
       "      <th>triglyceride</th>\n",
       "      <th>HDL</th>\n",
       "      <th>OPD_visit</th>\n",
       "      <th>IPD_visit</th>\n",
       "      <th>year</th>\n",
       "      <th>outcome_screen</th>\n",
       "    </tr>\n",
       "  </thead>\n",
       "  <tbody>\n",
       "    <tr>\n",
       "      <th>814131</th>\n",
       "      <td>Linkou</td>\n",
       "      <td>NaN</td>\n",
       "      <td>2</td>\n",
       "      <td>1</td>\n",
       "      <td>NaN</td>\n",
       "      <td>M</td>\n",
       "      <td>1</td>\n",
       "      <td>3</td>\n",
       "      <td>0</td>\n",
       "      <td>0</td>\n",
       "      <td>0</td>\n",
       "      <td>0</td>\n",
       "      <td>NaN</td>\n",
       "      <td>NaN</td>\n",
       "      <td>NaN</td>\n",
       "      <td>NaN</td>\n",
       "      <td>2</td>\n",
       "      <td>0</td>\n",
       "      <td>2019</td>\n",
       "      <td>0</td>\n",
       "    </tr>\n",
       "    <tr>\n",
       "      <th>814132</th>\n",
       "      <td>Taipei</td>\n",
       "      <td>6.0</td>\n",
       "      <td>2</td>\n",
       "      <td>9</td>\n",
       "      <td>4.0</td>\n",
       "      <td>F</td>\n",
       "      <td>1</td>\n",
       "      <td>NaN</td>\n",
       "      <td>0</td>\n",
       "      <td>0</td>\n",
       "      <td>0</td>\n",
       "      <td>0</td>\n",
       "      <td>NaN</td>\n",
       "      <td>NaN</td>\n",
       "      <td>NaN</td>\n",
       "      <td>NaN</td>\n",
       "      <td>0</td>\n",
       "      <td>0</td>\n",
       "      <td>2019</td>\n",
       "      <td>0</td>\n",
       "    </tr>\n",
       "  </tbody>\n",
       "</table>\n",
       "</div>"
      ],
      "text/plain": [
       "          hosp  bc_gp  age_gp  oc_gp  pas_gp sex  COUNTY_  \\\n",
       "814131  Linkou    NaN       2      1     NaN   M        1   \n",
       "814132  Taipei    6.0       2      9     4.0   F        1   \n",
       "\n",
       "       hosp_shopping_logistic  CCI_DM_wo_chronic  CCI_DM_w_chronic  \\\n",
       "814131                      3                  0                 0   \n",
       "814132                    NaN                  0                 0   \n",
       "\n",
       "        hypertension  hyperlipidemia  Hba1c  cholesterol  triglyceride  HDL  \\\n",
       "814131             0               0    NaN          NaN           NaN  NaN   \n",
       "814132             0               0    NaN          NaN           NaN  NaN   \n",
       "\n",
       "        OPD_visit  IPD_visit  year  outcome_screen  \n",
       "814131          2          0  2019               0  \n",
       "814132          0          0  2019               0  "
      ]
     },
     "execution_count": 5,
     "metadata": {},
     "output_type": "execute_result"
    }
   ],
   "source": [
    "df_3y = pd.DataFrame()\n",
    "df_3y['hosp'] = (cgrd_3y.hosp).map({1101010012:'Taipei', 1132070011:'Linkou'})\n",
    "df_3y['bc_gp'] = (cgrd_3y.bc_gp)\n",
    "df_3y['age_gp'] = (cgrd_3y.age_gp)\n",
    "df_3y['oc_gp'] = (cgrd_3y.oc_gp)\n",
    "df_3y['pas_gp'] = (cgrd_3y.pas_gp)\n",
    "df_3y['sex'] = (cgrd_3y.sex)\n",
    "df_3y['COUNTY_'] = (cgrd_3y.COUNTY_)\n",
    "df_3y['hosp_shopping_logistic'] = (cgrd_3y.hosp_shopping_logistic)\n",
    "# df_3y['CCI_MI'] = (cgrd_3y.CCI_MI)\n",
    "# df_3y['CCI_CHF'] = (cgrd_3y.CCI_CHF)\n",
    "\n",
    "# df_3y['CCI_PVD'] = (cgrd_3y.CCI_PVD)\n",
    "# df_3y['CCI_CVD'] = (cgrd_3y.CCI_CVD)\n",
    "# df_3y['CCI_Dementia'] = (cgrd_3y.CCI_Dementia)\n",
    "# df_3y['CCI_COPD'] = (cgrd_3y.CCI_COPD)\n",
    "# df_3y['CCI_Rheumatic'] = (cgrd_3y.CCI_Rheumatic)\n",
    "# df_3y['CCI_Ulcer'] = (cgrd_3y.CCI_Ulcer)\n",
    "# df_3y['CCI_MLD'] = (cgrd_3y.CCI_MLD)\n",
    "df_3y['CCI_DM_wo_chronic'] = (cgrd_3y.CCI_DM_wo_chronic)\n",
    "df_3y['CCI_DM_w_chronic'] = (cgrd_3y.CCI_DM_w_chronic)\n",
    "# df_3y['CCI_Hemiplegia'] = (cgrd_3y.CCI_Hemiplegia)\n",
    "\n",
    "# df_3y['CCI_Renal'] = (cgrd_3y.CCI_Renal)\n",
    "# df_3y['CCI_Malignancy'] = (cgrd_3y.CCI_Malignancy)\n",
    "# df_3y['CCI_MSLD'] = (cgrd_3y.CCI_MSLD)\n",
    "# df_3y['CCI_Cancer'] = (cgrd_3y.CCI_Cancer)\n",
    "# df_3y['CCI_AIDS'] = (cgrd_3y.CCI_AIDS)\n",
    "df_3y['hypertension'] = (cgrd_3y.hypertension)\n",
    "df_3y['hyperlipidemia'] = (cgrd_3y.hyperlipidemia)\n",
    "df_3y['Hba1c'] = (cgrd_3y.Hba1c)\n",
    "df_3y['cholesterol'] = (cgrd_3y.cholesterol)\n",
    "df_3y['triglyceride'] = (cgrd_3y.triglyceride)\n",
    "\n",
    "df_3y['HDL'] = (cgrd_3y.HDL)\n",
    "# df_3y['SelfPay_health_examination'] = (cgrd_3y.SelfPay_health_examination)\n",
    "# df_3y['health_examination'] = (cgrd_3y.health_examination)\n",
    "# df_3y['health_examination_diff'] = (cgrd_3y.health_examination_diff)\n",
    "# df_3y['Colonscopy_past'] = (cgrd_3y.Colonscopy_past)\n",
    "df_3y['OPD_visit'] = (cgrd_3y.OPD_visit)\n",
    "df_3y['IPD_visit'] = (cgrd_3y.IPD_visit)\n",
    "df_3y['year'] = (cgrd_3y.year)\n",
    "df_3y['outcome_screen'] = (cgrd_3y.outcome_screen)\n",
    "\n",
    "df_3y.tail(2)"
   ]
  },
  {
   "cell_type": "code",
   "execution_count": 6,
   "metadata": {},
   "outputs": [],
   "source": [
    "# df_3y.hosp_shopping_logistic.value_counts()"
   ]
  },
  {
   "cell_type": "code",
   "execution_count": 7,
   "metadata": {},
   "outputs": [
    {
     "data": {
      "text/plain": [
       "3    375282\n",
       "1    162043\n",
       "5     42125\n",
       "2      4289\n",
       "3      3847\n",
       "6      2226\n",
       "1      1578\n",
       "8      1507\n",
       "7       550\n",
       "5       447\n",
       "2        46\n",
       "6        24\n",
       "8        19\n",
       "Name: hosp_shopping_logistic, dtype: int64"
      ]
     },
     "execution_count": 7,
     "metadata": {},
     "output_type": "execute_result"
    }
   ],
   "source": [
    "df_3y['hosp_shopping_logistic'] = df_3y.hosp_shopping_logistic.replace('M', 7) ## \"M\"雲林\n",
    "df_3y['hosp_shopping_logistic'] = df_3y.hosp_shopping_logistic.replace(1.0, 1)\n",
    "df_3y['hosp_shopping_logistic'] = df_3y.hosp_shopping_logistic.replace(2.0, 2)\n",
    "df_3y['hosp_shopping_logistic'] = df_3y.hosp_shopping_logistic.replace(3.0, 3)\n",
    "df_3y['hosp_shopping_logistic'] = df_3y.hosp_shopping_logistic.replace(5.0, 5)\n",
    "df_3y['hosp_shopping_logistic'] = df_3y.hosp_shopping_logistic.replace(6.0, 6)\n",
    "df_3y['hosp_shopping_logistic'] = df_3y.hosp_shopping_logistic.replace(8.0, 8)\n",
    "\n",
    "df_3y.hosp_shopping_logistic.value_counts()"
   ]
  },
  {
   "cell_type": "markdown",
   "metadata": {},
   "source": [
    "# Split on sex"
   ]
  },
  {
   "cell_type": "code",
   "execution_count": 8,
   "metadata": {},
   "outputs": [],
   "source": [
    "# ## male\n",
    "# df_3y_M = df_3y[df_3y.sex == 'M'].reset_index(drop=True)\n",
    "# del df_3y_M['sex']\n",
    "# del df_3y_M['bc_gp']\n",
    "# del df_3y_M['pas_gp']\n",
    "\n",
    "# df_3y_M.info()"
   ]
  },
  {
   "cell_type": "code",
   "execution_count": 9,
   "metadata": {},
   "outputs": [
    {
     "name": "stdout",
     "output_type": "stream",
     "text": [
      "<class 'pandas.core.frame.DataFrame'>\n",
      "RangeIndex: 2344 entries, 0 to 2343\n",
      "Data columns (total 14 columns):\n",
      " #   Column                  Non-Null Count  Dtype  \n",
      "---  ------                  --------------  -----  \n",
      " 0   bc_gp                   2344 non-null   float64\n",
      " 1   age_gp                  2344 non-null   int64  \n",
      " 2   oc_gp                   2344 non-null   int64  \n",
      " 3   pas_gp                  2344 non-null   float64\n",
      " 4   COUNTY_                 2344 non-null   int64  \n",
      " 5   hosp_shopping_logistic  2342 non-null   object \n",
      " 6   Hba1c                   2206 non-null   float64\n",
      " 7   cholesterol             1477 non-null   float64\n",
      " 8   triglyceride            1559 non-null   float64\n",
      " 9   HDL                     1282 non-null   float64\n",
      " 10  OPD_visit               2344 non-null   int64  \n",
      " 11  IPD_visit               2344 non-null   int64  \n",
      " 12  year                    2344 non-null   int64  \n",
      " 13  outcome_screen          2344 non-null   int64  \n",
      "dtypes: float64(6), int64(7), object(1)\n",
      "memory usage: 256.5+ KB\n"
     ]
    }
   ],
   "source": [
    "## female in Linkou has HHH\n",
    "df_3y_F_L_HHH = df_3y[(df_3y.sex == 'F') & (df_3y.hosp == 'Linkou') & \n",
    "                      (df_3y.CCI_DM_wo_chronic == 1) & (df_3y.CCI_DM_w_chronic == 1) & \n",
    "                      (df_3y.hypertension == 1) & (df_3y.hyperlipidemia == 1)].reset_index(drop=True)\n",
    "\n",
    "del df_3y_F_L_HHH['sex']\n",
    "del df_3y_F_L_HHH['hosp']\n",
    "del df_3y_F_L_HHH['CCI_DM_wo_chronic']\n",
    "del df_3y_F_L_HHH['CCI_DM_w_chronic']\n",
    "del df_3y_F_L_HHH['hypertension']\n",
    "del df_3y_F_L_HHH['hyperlipidemia']\n",
    "\n",
    "df_3y_F_L_HHH.info()"
   ]
  },
  {
   "cell_type": "code",
   "execution_count": 10,
   "metadata": {},
   "outputs": [
    {
     "name": "stdout",
     "output_type": "stream",
     "text": [
      "<class 'pandas.core.frame.DataFrame'>\n",
      "RangeIndex: 1269 entries, 0 to 1268\n",
      "Data columns (total 14 columns):\n",
      " #   Column                  Non-Null Count  Dtype  \n",
      "---  ------                  --------------  -----  \n",
      " 0   bc_gp                   1269 non-null   float64\n",
      " 1   age_gp                  1269 non-null   int64  \n",
      " 2   oc_gp                   1269 non-null   int64  \n",
      " 3   pas_gp                  1269 non-null   float64\n",
      " 4   COUNTY_                 1269 non-null   int64  \n",
      " 5   hosp_shopping_logistic  1269 non-null   int32  \n",
      " 6   Hba1c                   1269 non-null   float64\n",
      " 7   cholesterol             1269 non-null   float64\n",
      " 8   triglyceride            1269 non-null   float64\n",
      " 9   HDL                     1269 non-null   float64\n",
      " 10  OPD_visit               1269 non-null   int64  \n",
      " 11  IPD_visit               1269 non-null   int64  \n",
      " 12  year                    1269 non-null   int64  \n",
      " 13  outcome_screen          1269 non-null   int64  \n",
      "dtypes: float64(6), int32(1), int64(7)\n",
      "memory usage: 134.0 KB\n"
     ]
    }
   ],
   "source": [
    "## dropna\n",
    "df_3y_F_L_HHH = df_3y_F_L_HHH.dropna().reset_index(drop=True)\n",
    "df_3y_F_L_HHH['hosp_shopping_logistic'] = df_3y_F_L_HHH.hosp_shopping_logistic.astype(int)\n",
    "df_3y_F_L_HHH.info()"
   ]
  },
  {
   "cell_type": "code",
   "execution_count": 11,
   "metadata": {},
   "outputs": [],
   "source": [
    "# df_3y_F_L_HHH.outcome_screen.value_counts().plot(kind='bar', title='HHH outcome_screen of 3 years')\n"
   ]
  },
  {
   "cell_type": "code",
   "execution_count": 12,
   "metadata": {},
   "outputs": [
    {
     "data": {
      "image/png": "[encoded data removed]",
      "text/plain": [
       "<Figure size 1152x288 with 3 Axes>"
      ]
     },
     "metadata": {
      "needs_background": "light"
     },
     "output_type": "display_data"
    }
   ],
   "source": [
    "fig = plt.figure(figsize=(16,4))\n",
    "\n",
    "ax1 = fig.add_subplot(131)\n",
    "ax1.bar(sorted(df_3y_F_L_HHH[df_3y_F_L_HHH.year == 2017].outcome_screen.unique()), \n",
    "        df_3y_F_L_HHH[df_3y_F_L_HHH.year == 2017].outcome_screen.value_counts(), tick_label=[0 , 1])\n",
    "ax1.set_title('2017 Female_Linkou_HHH outcome_screen')\n",
    "for x,y in zip(sorted(df_3y_F_L_HHH[df_3y_F_L_HHH.year == 2017].outcome_screen.unique()), df_3y_F_L_HHH[df_3y_F_L_HHH.year == 2017].outcome_screen.value_counts()):\n",
    "    ax1.text(x,y+0.05,y,fontsize=14,horizontalalignment='center')\n",
    "    \n",
    "ax2 = fig.add_subplot(132)\n",
    "ax2.bar(sorted(df_3y_F_L_HHH[df_3y_F_L_HHH.year == 2018].outcome_screen.unique()), \n",
    "        df_3y_F_L_HHH[df_3y_F_L_HHH.year == 2018].outcome_screen.value_counts(), tick_label=[0 , 1])\n",
    "ax2.set_title('2018 Female_Linkou_HHH outcome_screen')\n",
    "for x,y in zip(sorted(df_3y_F_L_HHH[df_3y_F_L_HHH.year == 2018].outcome_screen.unique()), df_3y_F_L_HHH[df_3y_F_L_HHH.year == 2018].outcome_screen.value_counts()):\n",
    "    ax2.text(x,y+0.05,y,fontsize=14,horizontalalignment='center')\n",
    "\n",
    "ax3 = fig.add_subplot(133)\n",
    "ax3.bar(df_3y_F_L_HHH[df_3y_F_L_HHH.year == 2019].outcome_screen.unique(), \n",
    "        df_3y_F_L_HHH[df_3y_F_L_HHH.year == 2019].outcome_screen.value_counts(), tick_label=[0 , 1])\n",
    "ax3.set_title('2019 Female_Linkou_HHH outcome_screen')\n",
    "for x,y in zip(df_3y_F_L_HHH[df_3y_F_L_HHH.year == 2019].outcome_screen.unique(), df_3y_F_L_HHH[df_3y_F_L_HHH.year == 2019].outcome_screen.value_counts()):\n",
    "    ax3.text(x,y+0.05,y,fontsize=14,horizontalalignment='center')\n",
    "\n",
    "plt.show()"
   ]
  },
  {
   "cell_type": "markdown",
   "metadata": {},
   "source": [
    "# Correlation"
   ]
  },
  {
   "cell_type": "code",
   "execution_count": 13,
   "metadata": {},
   "outputs": [
    {
     "data": {
      "text/html": [
       "<div>\n",
       "<style scoped>\n",
       "    .dataframe tbody tr th:only-of-type {\n",
       "        vertical-align: middle;\n",
       "    }\n",
       "\n",
       "    .dataframe tbody tr th {\n",
       "        vertical-align: top;\n",
       "    }\n",
       "\n",
       "    .dataframe thead th {\n",
       "        text-align: right;\n",
       "    }\n",
       "</style>\n",
       "<table border=\"1\" class=\"dataframe\">\n",
       "  <thead>\n",
       "    <tr style=\"text-align: right;\">\n",
       "      <th></th>\n",
       "      <th>bc_gp</th>\n",
       "      <th>age_gp</th>\n",
       "      <th>oc_gp</th>\n",
       "      <th>pas_gp</th>\n",
       "      <th>COUNTY_</th>\n",
       "      <th>hosp_shopping_logistic</th>\n",
       "      <th>Hba1c</th>\n",
       "      <th>cholesterol</th>\n",
       "      <th>triglyceride</th>\n",
       "      <th>HDL</th>\n",
       "      <th>outcome_screen</th>\n",
       "    </tr>\n",
       "  </thead>\n",
       "  <tbody>\n",
       "    <tr>\n",
       "      <th>bc_gp</th>\n",
       "      <td>1.000000</td>\n",
       "      <td>0.432157</td>\n",
       "      <td>0.025406</td>\n",
       "      <td>0.408636</td>\n",
       "      <td>-0.008568</td>\n",
       "      <td>-0.021756</td>\n",
       "      <td>-0.016101</td>\n",
       "      <td>0.037071</td>\n",
       "      <td>0.006268</td>\n",
       "      <td>0.009297</td>\n",
       "      <td>-0.284445</td>\n",
       "    </tr>\n",
       "    <tr>\n",
       "      <th>age_gp</th>\n",
       "      <td>0.432157</td>\n",
       "      <td>1.000000</td>\n",
       "      <td>-0.021089</td>\n",
       "      <td>0.045542</td>\n",
       "      <td>0.036623</td>\n",
       "      <td>-0.040991</td>\n",
       "      <td>0.022670</td>\n",
       "      <td>0.075159</td>\n",
       "      <td>0.043949</td>\n",
       "      <td>-0.018828</td>\n",
       "      <td>-0.011977</td>\n",
       "    </tr>\n",
       "    <tr>\n",
       "      <th>oc_gp</th>\n",
       "      <td>0.025406</td>\n",
       "      <td>-0.021089</td>\n",
       "      <td>1.000000</td>\n",
       "      <td>0.125891</td>\n",
       "      <td>-0.001517</td>\n",
       "      <td>-0.005689</td>\n",
       "      <td>-0.041706</td>\n",
       "      <td>0.021072</td>\n",
       "      <td>-0.013197</td>\n",
       "      <td>-0.025208</td>\n",
       "      <td>-0.087532</td>\n",
       "    </tr>\n",
       "    <tr>\n",
       "      <th>pas_gp</th>\n",
       "      <td>0.408636</td>\n",
       "      <td>0.045542</td>\n",
       "      <td>0.125891</td>\n",
       "      <td>1.000000</td>\n",
       "      <td>0.004626</td>\n",
       "      <td>-0.019471</td>\n",
       "      <td>-0.052921</td>\n",
       "      <td>0.027170</td>\n",
       "      <td>-0.014059</td>\n",
       "      <td>-0.042757</td>\n",
       "      <td>-0.376740</td>\n",
       "    </tr>\n",
       "    <tr>\n",
       "      <th>COUNTY_</th>\n",
       "      <td>-0.008568</td>\n",
       "      <td>0.036623</td>\n",
       "      <td>-0.001517</td>\n",
       "      <td>0.004626</td>\n",
       "      <td>1.000000</td>\n",
       "      <td>-0.150229</td>\n",
       "      <td>0.024468</td>\n",
       "      <td>0.005054</td>\n",
       "      <td>0.014470</td>\n",
       "      <td>-0.003203</td>\n",
       "      <td>0.050270</td>\n",
       "    </tr>\n",
       "    <tr>\n",
       "      <th>hosp_shopping_logistic</th>\n",
       "      <td>-0.021756</td>\n",
       "      <td>-0.040991</td>\n",
       "      <td>-0.005689</td>\n",
       "      <td>-0.019471</td>\n",
       "      <td>-0.150229</td>\n",
       "      <td>1.000000</td>\n",
       "      <td>0.037552</td>\n",
       "      <td>-0.016072</td>\n",
       "      <td>0.028586</td>\n",
       "      <td>-0.008142</td>\n",
       "      <td>0.028059</td>\n",
       "    </tr>\n",
       "    <tr>\n",
       "      <th>Hba1c</th>\n",
       "      <td>-0.016101</td>\n",
       "      <td>0.022670</td>\n",
       "      <td>-0.041706</td>\n",
       "      <td>-0.052921</td>\n",
       "      <td>0.024468</td>\n",
       "      <td>0.037552</td>\n",
       "      <td>1.000000</td>\n",
       "      <td>0.098600</td>\n",
       "      <td>0.162051</td>\n",
       "      <td>0.114834</td>\n",
       "      <td>0.098127</td>\n",
       "    </tr>\n",
       "    <tr>\n",
       "      <th>cholesterol</th>\n",
       "      <td>0.037071</td>\n",
       "      <td>0.075159</td>\n",
       "      <td>0.021072</td>\n",
       "      <td>0.027170</td>\n",
       "      <td>0.005054</td>\n",
       "      <td>-0.016072</td>\n",
       "      <td>0.098600</td>\n",
       "      <td>1.000000</td>\n",
       "      <td>0.164284</td>\n",
       "      <td>-0.043096</td>\n",
       "      <td>0.056327</td>\n",
       "    </tr>\n",
       "    <tr>\n",
       "      <th>triglyceride</th>\n",
       "      <td>0.006268</td>\n",
       "      <td>0.043949</td>\n",
       "      <td>-0.013197</td>\n",
       "      <td>-0.014059</td>\n",
       "      <td>0.014470</td>\n",
       "      <td>0.028586</td>\n",
       "      <td>0.162051</td>\n",
       "      <td>0.164284</td>\n",
       "      <td>1.000000</td>\n",
       "      <td>0.263295</td>\n",
       "      <td>0.061937</td>\n",
       "    </tr>\n",
       "    <tr>\n",
       "      <th>HDL</th>\n",
       "      <td>0.009297</td>\n",
       "      <td>-0.018828</td>\n",
       "      <td>-0.025208</td>\n",
       "      <td>-0.042757</td>\n",
       "      <td>-0.003203</td>\n",
       "      <td>-0.008142</td>\n",
       "      <td>0.114834</td>\n",
       "      <td>-0.043096</td>\n",
       "      <td>0.263295</td>\n",
       "      <td>1.000000</td>\n",
       "      <td>0.017894</td>\n",
       "    </tr>\n",
       "    <tr>\n",
       "      <th>outcome_screen</th>\n",
       "      <td>-0.284445</td>\n",
       "      <td>-0.011977</td>\n",
       "      <td>-0.087532</td>\n",
       "      <td>-0.376740</td>\n",
       "      <td>0.050270</td>\n",
       "      <td>0.028059</td>\n",
       "      <td>0.098127</td>\n",
       "      <td>0.056327</td>\n",
       "      <td>0.061937</td>\n",
       "      <td>0.017894</td>\n",
       "      <td>1.000000</td>\n",
       "    </tr>\n",
       "  </tbody>\n",
       "</table>\n",
       "</div>"
      ],
      "text/plain": [
       "                           bc_gp    age_gp     oc_gp    pas_gp   COUNTY_  \\\n",
       "bc_gp                   1.000000  0.432157  0.025406  0.408636 -0.008568   \n",
       "age_gp                  0.432157  1.000000 -0.021089  0.045542  0.036623   \n",
       "oc_gp                   0.025406 -0.021089  1.000000  0.125891 -0.001517   \n",
       "pas_gp                  0.408636  0.045542  0.125891  1.000000  0.004626   \n",
       "COUNTY_                -0.008568  0.036623 -0.001517  0.004626  1.000000   \n",
       "hosp_shopping_logistic -0.021756 -0.040991 -0.005689 -0.019471 -0.150229   \n",
       "Hba1c                  -0.016101  0.022670 -0.041706 -0.052921  0.024468   \n",
       "cholesterol             0.037071  0.075159  0.021072  0.027170  0.005054   \n",
       "triglyceride            0.006268  0.043949 -0.013197 -0.014059  0.014470   \n",
       "HDL                     0.009297 -0.018828 -0.025208 -0.042757 -0.003203   \n",
       "outcome_screen         -0.284445 -0.011977 -0.087532 -0.376740  0.050270   \n",
       "\n",
       "                        hosp_shopping_logistic     Hba1c  cholesterol  \\\n",
       "bc_gp                                -0.021756 -0.016101     0.037071   \n",
       "age_gp                               -0.040991  0.022670     0.075159   \n",
       "oc_gp                                -0.005689 -0.041706     0.021072   \n",
       "pas_gp                               -0.019471 -0.052921     0.027170   \n",
       "COUNTY_                              -0.150229  0.024468     0.005054   \n",
       "hosp_shopping_logistic                1.000000  0.037552    -0.016072   \n",
       "Hba1c                                 0.037552  1.000000     0.098600   \n",
       "cholesterol                          -0.016072  0.098600     1.000000   \n",
       "triglyceride                          0.028586  0.162051     0.164284   \n",
       "HDL                                  -0.008142  0.114834    -0.043096   \n",
       "outcome_screen                        0.028059  0.098127     0.056327   \n",
       "\n",
       "                        triglyceride       HDL  outcome_screen  \n",
       "bc_gp                       0.006268  0.009297       -0.284445  \n",
       "age_gp                      0.043949 -0.018828       -0.011977  \n",
       "oc_gp                      -0.013197 -0.025208       -0.087532  \n",
       "pas_gp                     -0.014059 -0.042757       -0.376740  \n",
       "COUNTY_                     0.014470 -0.003203        0.050270  \n",
       "hosp_shopping_logistic      0.028586 -0.008142        0.028059  \n",
       "Hba1c                       0.162051  0.114834        0.098127  \n",
       "cholesterol                 0.164284 -0.043096        0.056327  \n",
       "triglyceride                1.000000  0.263295        0.061937  \n",
       "HDL                         0.263295  1.000000        0.017894  \n",
       "outcome_screen              0.061937  0.017894        1.000000  "
      ]
     },
     "execution_count": 13,
     "metadata": {},
     "output_type": "execute_result"
    }
   ],
   "source": [
    "## category\n",
    "df_3y_F_L_HHHy_catg = df_3y_F_L_HHH.iloc[:, :-4]\n",
    "df_3y_F_L_HHHy_catg['outcome_screen'] = df_3y_F_L_HHH.outcome_screen\n",
    "\n",
    "df_3y_F_L_HHHy_catg.corr(method='spearman')"
   ]
  },
  {
   "cell_type": "code",
   "execution_count": 14,
   "metadata": {},
   "outputs": [
    {
     "data": {
      "text/html": [
       "<div>\n",
       "<style scoped>\n",
       "    .dataframe tbody tr th:only-of-type {\n",
       "        vertical-align: middle;\n",
       "    }\n",
       "\n",
       "    .dataframe tbody tr th {\n",
       "        vertical-align: top;\n",
       "    }\n",
       "\n",
       "    .dataframe thead th {\n",
       "        text-align: right;\n",
       "    }\n",
       "</style>\n",
       "<table border=\"1\" class=\"dataframe\">\n",
       "  <thead>\n",
       "    <tr style=\"text-align: right;\">\n",
       "      <th></th>\n",
       "      <th>OPD_visit</th>\n",
       "      <th>IPD_visit</th>\n",
       "      <th>outcome_screen</th>\n",
       "    </tr>\n",
       "  </thead>\n",
       "  <tbody>\n",
       "    <tr>\n",
       "      <th>OPD_visit</th>\n",
       "      <td>1.000000</td>\n",
       "      <td>0.400016</td>\n",
       "      <td>0.066269</td>\n",
       "    </tr>\n",
       "    <tr>\n",
       "      <th>IPD_visit</th>\n",
       "      <td>0.400016</td>\n",
       "      <td>1.000000</td>\n",
       "      <td>-0.044402</td>\n",
       "    </tr>\n",
       "    <tr>\n",
       "      <th>outcome_screen</th>\n",
       "      <td>0.066269</td>\n",
       "      <td>-0.044402</td>\n",
       "      <td>1.000000</td>\n",
       "    </tr>\n",
       "  </tbody>\n",
       "</table>\n",
       "</div>"
      ],
      "text/plain": [
       "                OPD_visit  IPD_visit  outcome_screen\n",
       "OPD_visit        1.000000   0.400016        0.066269\n",
       "IPD_visit        0.400016   1.000000       -0.044402\n",
       "outcome_screen   0.066269  -0.044402        1.000000"
      ]
     },
     "execution_count": 14,
     "metadata": {},
     "output_type": "execute_result"
    }
   ],
   "source": [
    "## numeric \n",
    "df_3y_F_L_HHHy_num = df_3y_F_L_HHH.iloc[:, -4:-2]\n",
    "df_3y_F_L_HHHy_num['outcome_screen'] = df_3y_F_L_HHH.outcome_screen\n",
    "df_3y_F_L_HHHy_num.corr()"
   ]
  },
  {
   "cell_type": "markdown",
   "metadata": {},
   "source": [
    "# Split to training/ valid/ test"
   ]
  },
  {
   "cell_type": "code",
   "execution_count": 15,
   "metadata": {},
   "outputs": [],
   "source": [
    "X_train = df_3y_F_L_HHH[df_3y_F_L_HHH.year == 2017].iloc[:, :-4]\n",
    "y_train = df_3y_F_L_HHH[df_3y_F_L_HHH.year == 2017].outcome_screen\n",
    "\n",
    "X_valid = df_3y_F_L_HHH[df_3y_F_L_HHH.year == 2018].iloc[:, :-4]\n",
    "y_valid = df_3y_F_L_HHH[df_3y_F_L_HHH.year == 2018].outcome_screen\n",
    "\n",
    "X_test = df_3y_F_L_HHH[df_3y_F_L_HHH.year == 2019].iloc[:, :-4]\n",
    "y_test = df_3y_F_L_HHH[df_3y_F_L_HHH.year == 2019].outcome_screen"
   ]
  },
  {
   "cell_type": "markdown",
   "metadata": {},
   "source": [
    "# Model_XGBoost Classifier"
   ]
  },
  {
   "cell_type": "code",
   "execution_count": 16,
   "metadata": {
    "scrolled": true
   },
   "outputs": [
    {
     "name": "stdout",
     "output_type": "stream",
     "text": [
      "[15:54:57] WARNING: D:\\Build\\xgboost\\xgboost-1.4.2.git\\src\\learner.cc:1095: Starting in XGBoost 1.3.0, the default evaluation metric used with the objective 'binary:logistic' was changed from 'error' to 'logloss'. Explicitly set eval_metric if you'd like to restore the old behavior.\n",
      "[15:54:57] WARNING: D:\\Build\\xgboost\\xgboost-1.4.2.git\\src\\learner.cc:1095: Starting in XGBoost 1.3.0, the default evaluation metric used with the objective 'binary:logistic' was changed from 'error' to 'logloss'. Explicitly set eval_metric if you'd like to restore the old behavior.\n",
      "[15:54:57] WARNING: D:\\Build\\xgboost\\xgboost-1.4.2.git\\src\\learner.cc:1095: Starting in XGBoost 1.3.0, the default evaluation metric used with the objective 'binary:logistic' was changed from 'error' to 'logloss'. Explicitly set eval_metric if you'd like to restore the old behavior.\n",
      "[15:54:58] WARNING: D:\\Build\\xgboost\\xgboost-1.4.2.git\\src\\learner.cc:1095: Starting in XGBoost 1.3.0, the default evaluation metric used with the objective 'binary:logistic' was changed from 'error' to 'logloss'. Explicitly set eval_metric if you'd like to restore the old behavior.\n",
      "[15:54:58] WARNING: D:\\Build\\xgboost\\xgboost-1.4.2.git\\src\\learner.cc:1095: Starting in XGBoost 1.3.0, the default evaluation metric used with the objective 'binary:logistic' was changed from 'error' to 'logloss'. Explicitly set eval_metric if you'd like to restore the old behavior.\n",
      "1.4.2\n",
      "[0.71621622 0.71621622 0.71621622 0.60810811 0.64864865]\n",
      "XGBClassifier: 0.6810810810810811\n",
      "--- 0.25270557403564453 seconds ---\n"
     ]
    }
   ],
   "source": [
    "start_time = time.time()\n",
    "\n",
    "xgb = XGBClassifier()\n",
    "cv = cross_val_score(xgb,X_train,y_train,cv=5)\n",
    "print(xgboost.__version__)\n",
    "print(cv)\n",
    "print('XGBClassifier:', cv.mean())\n",
    "print(\"--- %s seconds ---\" % (time.time() - start_time))\n"
   ]
  },
  {
   "cell_type": "markdown",
   "metadata": {},
   "source": [
    "# Training"
   ]
  },
  {
   "cell_type": "code",
   "execution_count": 17,
   "metadata": {},
   "outputs": [
    {
     "name": "stdout",
     "output_type": "stream",
     "text": [
      "[15:54:58] WARNING: D:\\Build\\xgboost\\xgboost-1.4.2.git\\src\\learner.cc:1095: Starting in XGBoost 1.3.0, the default evaluation metric used with the objective 'binary:logistic' was changed from 'error' to 'logloss'. Explicitly set eval_metric if you'd like to restore the old behavior.\n"
     ]
    },
    {
     "data": {
      "image/png": "[encoded data removed]",
      "text/plain": [
       "<Figure size 432x288 with 2 Axes>"
      ]
     },
     "metadata": {
      "needs_background": "light"
     },
     "output_type": "display_data"
    },
    {
     "data": {
      "image/png": "[encoded data removed]",
      "text/plain": [
       "<Figure size 432x288 with 1 Axes>"
      ]
     },
     "metadata": {
      "needs_background": "light"
     },
     "output_type": "display_data"
    },
    {
     "name": "stdout",
     "output_type": "stream",
     "text": [
      "--------------- True/False Pos/Neg ---------------\n",
      "              True Neg False Pos False Neg True Pos    AUC\n",
      "F_L_HHH_train      224        13        13      120  0.924 \n",
      "\n",
      "[15:54:58] WARNING: D:\\Build\\xgboost\\xgboost-1.4.2.git\\src\\learner.cc:1095: Starting in XGBoost 1.3.0, the default evaluation metric used with the objective 'binary:logistic' was changed from 'error' to 'logloss'. Explicitly set eval_metric if you'd like to restore the old behavior.\n"
     ]
    }
   ],
   "source": [
    "train = confusio_matrix(xgb, X_train, y_train)\n",
    "plot_roc_curve(xgb, X_train, y_train)\n",
    "\n",
    "train = train.rename(index={0: \"F_L_HHH_train\"})\n",
    "print('--------------- True/False Pos/Neg ---------------')\n",
    "print(train, '\\n')\n",
    "\n",
    "train_imp = get_impotances(xgb, X_train, y_train)\n",
    "train_imp.columns = ['F_L_HHH_column', 'F_L_HHH_train_impor']\n",
    "\n",
    "# train_imp"
   ]
  },
  {
   "cell_type": "markdown",
   "metadata": {},
   "source": [
    "# Validation"
   ]
  },
  {
   "cell_type": "code",
   "execution_count": 18,
   "metadata": {},
   "outputs": [
    {
     "name": "stdout",
     "output_type": "stream",
     "text": [
      "[15:54:58] WARNING: D:\\Build\\xgboost\\xgboost-1.4.2.git\\src\\learner.cc:1095: Starting in XGBoost 1.3.0, the default evaluation metric used with the objective 'binary:logistic' was changed from 'error' to 'logloss'. Explicitly set eval_metric if you'd like to restore the old behavior.\n"
     ]
    },
    {
     "data": {
      "image/png": "[encoded data removed]",
      "text/plain": [
       "<Figure size 432x288 with 2 Axes>"
      ]
     },
     "metadata": {
      "needs_background": "light"
     },
     "output_type": "display_data"
    },
    {
     "data": {
      "image/png": "[encoded data removed]",
      "text/plain": [
       "<Figure size 432x288 with 1 Axes>"
      ]
     },
     "metadata": {
      "needs_background": "light"
     },
     "output_type": "display_data"
    },
    {
     "name": "stdout",
     "output_type": "stream",
     "text": [
      "--------------- True/False Pos/Neg ---------------\n",
      "              True Neg False Pos False Neg True Pos    AUC\n",
      "F_L_HHH_valid      246        19        16      126  0.908 \n",
      "\n",
      "[15:54:58] WARNING: D:\\Build\\xgboost\\xgboost-1.4.2.git\\src\\learner.cc:1095: Starting in XGBoost 1.3.0, the default evaluation metric used with the objective 'binary:logistic' was changed from 'error' to 'logloss'. Explicitly set eval_metric if you'd like to restore the old behavior.\n"
     ]
    }
   ],
   "source": [
    "valid = confusio_matrix(xgb, X_valid, y_valid)\n",
    "plot_roc_curve(xgb, X_valid, y_valid)\n",
    "\n",
    "valid = valid.rename(index={0: \"F_L_HHH_valid\"})\n",
    "print('--------------- True/False Pos/Neg ---------------')\n",
    "print(valid, '\\n')\n",
    "\n",
    "valid_imp = get_impotances(xgb, X_valid, y_valid)\n",
    "valid_imp.columns = ['F_L_HHH_column', 'F_L_HHH_valid_impor']\n",
    "# valid_imp"
   ]
  },
  {
   "cell_type": "markdown",
   "metadata": {},
   "source": [
    "# Test"
   ]
  },
  {
   "cell_type": "code",
   "execution_count": 19,
   "metadata": {},
   "outputs": [
    {
     "name": "stdout",
     "output_type": "stream",
     "text": [
      "[15:54:58] WARNING: D:\\Build\\xgboost\\xgboost-1.4.2.git\\src\\learner.cc:1095: Starting in XGBoost 1.3.0, the default evaluation metric used with the objective 'binary:logistic' was changed from 'error' to 'logloss'. Explicitly set eval_metric if you'd like to restore the old behavior.\n"
     ]
    },
    {
     "data": {
      "image/png": "[encoded data removed]",
      "text/plain": [
       "<Figure size 432x288 with 2 Axes>"
      ]
     },
     "metadata": {
      "needs_background": "light"
     },
     "output_type": "display_data"
    },
    {
     "data": {
      "image/png": "[encoded data removed]",
      "text/plain": [
       "<Figure size 432x288 with 1 Axes>"
      ]
     },
     "metadata": {
      "needs_background": "light"
     },
     "output_type": "display_data"
    },
    {
     "name": "stdout",
     "output_type": "stream",
     "text": [
      "--------------- True/False Pos/Neg ---------------\n",
      "             True Neg False Pos False Neg True Pos    AUC\n",
      "F_L_HHH_test      286        22        26      158  0.894 \n",
      "\n",
      "[15:54:59] WARNING: D:\\Build\\xgboost\\xgboost-1.4.2.git\\src\\learner.cc:1095: Starting in XGBoost 1.3.0, the default evaluation metric used with the objective 'binary:logistic' was changed from 'error' to 'logloss'. Explicitly set eval_metric if you'd like to restore the old behavior.\n"
     ]
    }
   ],
   "source": [
    "test = confusio_matrix(xgb, X_test, y_test)\n",
    "plot_roc_curve(xgb, X_test, y_test)\n",
    "\n",
    "test = test.rename(index={0: \"F_L_HHH_test\"})\n",
    "print('--------------- True/False Pos/Neg ---------------')\n",
    "print(test, '\\n')\n",
    "\n",
    "test_imp = get_impotances(xgb, X_test, y_test)\n",
    "test_imp.columns = ['F_L_HHH_column', 'F_L_HHH_test_impor']\n",
    "# test_imp"
   ]
  },
  {
   "cell_type": "markdown",
   "metadata": {},
   "source": [
    "# Result"
   ]
  },
  {
   "cell_type": "code",
   "execution_count": 20,
   "metadata": {},
   "outputs": [
    {
     "name": "stdout",
     "output_type": "stream",
     "text": [
      "--- Female_Linkou HHH result---\n"
     ]
    },
    {
     "data": {
      "text/html": [
       "<div>\n",
       "<style scoped>\n",
       "    .dataframe tbody tr th:only-of-type {\n",
       "        vertical-align: middle;\n",
       "    }\n",
       "\n",
       "    .dataframe tbody tr th {\n",
       "        vertical-align: top;\n",
       "    }\n",
       "\n",
       "    .dataframe thead th {\n",
       "        text-align: right;\n",
       "    }\n",
       "</style>\n",
       "<table border=\"1\" class=\"dataframe\">\n",
       "  <thead>\n",
       "    <tr style=\"text-align: right;\">\n",
       "      <th></th>\n",
       "      <th>True Neg</th>\n",
       "      <th>False Pos</th>\n",
       "      <th>False Neg</th>\n",
       "      <th>True Pos</th>\n",
       "      <th>AUC</th>\n",
       "    </tr>\n",
       "  </thead>\n",
       "  <tbody>\n",
       "    <tr>\n",
       "      <th>F_L_HHH_train</th>\n",
       "      <td>224</td>\n",
       "      <td>13</td>\n",
       "      <td>13</td>\n",
       "      <td>120</td>\n",
       "      <td>0.924</td>\n",
       "    </tr>\n",
       "    <tr>\n",
       "      <th>F_L_HHH_valid</th>\n",
       "      <td>246</td>\n",
       "      <td>19</td>\n",
       "      <td>16</td>\n",
       "      <td>126</td>\n",
       "      <td>0.908</td>\n",
       "    </tr>\n",
       "    <tr>\n",
       "      <th>F_L_HHH_test</th>\n",
       "      <td>286</td>\n",
       "      <td>22</td>\n",
       "      <td>26</td>\n",
       "      <td>158</td>\n",
       "      <td>0.894</td>\n",
       "    </tr>\n",
       "  </tbody>\n",
       "</table>\n",
       "</div>"
      ],
      "text/plain": [
       "              True Neg False Pos False Neg True Pos    AUC\n",
       "F_L_HHH_train      224        13        13      120  0.924\n",
       "F_L_HHH_valid      246        19        16      126  0.908\n",
       "F_L_HHH_test       286        22        26      158  0.894"
      ]
     },
     "execution_count": 20,
     "metadata": {},
     "output_type": "execute_result"
    }
   ],
   "source": [
    "print('--- Female_Linkou HHH result---')\n",
    "result = pd.concat([train, valid, test])\n",
    "result "
   ]
  },
  {
   "cell_type": "code",
   "execution_count": 21,
   "metadata": {},
   "outputs": [
    {
     "data": {
      "text/html": [
       "<div>\n",
       "<style scoped>\n",
       "    .dataframe tbody tr th:only-of-type {\n",
       "        vertical-align: middle;\n",
       "    }\n",
       "\n",
       "    .dataframe tbody tr th {\n",
       "        vertical-align: top;\n",
       "    }\n",
       "\n",
       "    .dataframe thead th {\n",
       "        text-align: right;\n",
       "    }\n",
       "</style>\n",
       "<table border=\"1\" class=\"dataframe\">\n",
       "  <thead>\n",
       "    <tr style=\"text-align: right;\">\n",
       "      <th></th>\n",
       "      <th>F_L_HHH_column</th>\n",
       "      <th>F_L_HHH_train_impor</th>\n",
       "      <th>F_L_HHH_valid_impor</th>\n",
       "      <th>F_L_HHH_test_impor</th>\n",
       "    </tr>\n",
       "  </thead>\n",
       "  <tbody>\n",
       "    <tr>\n",
       "      <th>0</th>\n",
       "      <td>bc_gp</td>\n",
       "      <td>0.193517</td>\n",
       "      <td>0.148296</td>\n",
       "      <td>0.105376</td>\n",
       "    </tr>\n",
       "    <tr>\n",
       "      <th>1</th>\n",
       "      <td>oc_gp</td>\n",
       "      <td>0.127409</td>\n",
       "      <td>0.089173</td>\n",
       "      <td>0.113570</td>\n",
       "    </tr>\n",
       "    <tr>\n",
       "      <th>2</th>\n",
       "      <td>COUNTY_</td>\n",
       "      <td>0.115472</td>\n",
       "      <td>0.075501</td>\n",
       "      <td>0.054410</td>\n",
       "    </tr>\n",
       "    <tr>\n",
       "      <th>3</th>\n",
       "      <td>triglyceride</td>\n",
       "      <td>0.099398</td>\n",
       "      <td>0.090014</td>\n",
       "      <td>0.105241</td>\n",
       "    </tr>\n",
       "    <tr>\n",
       "      <th>4</th>\n",
       "      <td>pas_gp</td>\n",
       "      <td>0.098962</td>\n",
       "      <td>0.236859</td>\n",
       "      <td>0.187758</td>\n",
       "    </tr>\n",
       "    <tr>\n",
       "      <th>5</th>\n",
       "      <td>age_gp</td>\n",
       "      <td>0.085685</td>\n",
       "      <td>0.073854</td>\n",
       "      <td>0.099124</td>\n",
       "    </tr>\n",
       "    <tr>\n",
       "      <th>6</th>\n",
       "      <td>hosp_shopping_logistic</td>\n",
       "      <td>0.078888</td>\n",
       "      <td>0.063750</td>\n",
       "      <td>0.088788</td>\n",
       "    </tr>\n",
       "    <tr>\n",
       "      <th>7</th>\n",
       "      <td>HDL</td>\n",
       "      <td>0.077898</td>\n",
       "      <td>0.074766</td>\n",
       "      <td>0.077337</td>\n",
       "    </tr>\n",
       "    <tr>\n",
       "      <th>8</th>\n",
       "      <td>Hba1c</td>\n",
       "      <td>0.064881</td>\n",
       "      <td>0.061792</td>\n",
       "      <td>0.102771</td>\n",
       "    </tr>\n",
       "    <tr>\n",
       "      <th>9</th>\n",
       "      <td>cholesterol</td>\n",
       "      <td>0.057891</td>\n",
       "      <td>0.085996</td>\n",
       "      <td>0.065625</td>\n",
       "    </tr>\n",
       "  </tbody>\n",
       "</table>\n",
       "</div>"
      ],
      "text/plain": [
       "           F_L_HHH_column  F_L_HHH_train_impor  F_L_HHH_valid_impor  \\\n",
       "0                   bc_gp             0.193517             0.148296   \n",
       "1                   oc_gp             0.127409             0.089173   \n",
       "2                 COUNTY_             0.115472             0.075501   \n",
       "3            triglyceride             0.099398             0.090014   \n",
       "4                  pas_gp             0.098962             0.236859   \n",
       "5                  age_gp             0.085685             0.073854   \n",
       "6  hosp_shopping_logistic             0.078888             0.063750   \n",
       "7                     HDL             0.077898             0.074766   \n",
       "8                   Hba1c             0.064881             0.061792   \n",
       "9             cholesterol             0.057891             0.085996   \n",
       "\n",
       "   F_L_HHH_test_impor  \n",
       "0            0.105376  \n",
       "1            0.113570  \n",
       "2            0.054410  \n",
       "3            0.105241  \n",
       "4            0.187758  \n",
       "5            0.099124  \n",
       "6            0.088788  \n",
       "7            0.077337  \n",
       "8            0.102771  \n",
       "9            0.065625  "
      ]
     },
     "execution_count": 21,
     "metadata": {},
     "output_type": "execute_result"
    }
   ],
   "source": [
    "result1 = train_imp.merge(valid_imp, left_on='F_L_HHH_column', right_on='F_L_HHH_column')\n",
    "result1 = result1.merge(test_imp, left_on='F_L_HHH_column', right_on='F_L_HHH_column')\n",
    "result1"
   ]
  },
  {
   "cell_type": "code",
   "execution_count": null,
   "metadata": {},
   "outputs": [],
   "source": []
  }
 ],
 "metadata": {
  "kernelspec": {
   "display_name": "Python 3",
   "language": "python",
   "name": "python3"
  },
  "language_info": {
   "codemirror_mode": {
    "name": "ipython",
    "version": 3
   },
   "file_extension": ".py",
   "mimetype": "text/x-python",
   "name": "python",
   "nbconvert_exporter": "python",
   "pygments_lexer": "ipython3",
   "version": "3.8.5"
  }
 },
 "nbformat": 4,
 "nbformat_minor": 4
}
