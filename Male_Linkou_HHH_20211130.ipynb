{
 "cells": [
  {
   "cell_type": "markdown",
   "metadata": {},
   "source": [
    "# Health Promotion Administration\n",
    "# & CGRD\n",
    "# & 1.DM, 2.hypertension, 3.hyperlipidemia"
   ]
  },
  {
   "cell_type": "code",
   "execution_count": 1,
   "metadata": {},
   "outputs": [],
   "source": [
    "import numpy as np\n",
    "from utils import *"
   ]
  },
  {
   "cell_type": "code",
   "execution_count": 2,
   "metadata": {},
   "outputs": [
    {
     "data": {
      "text/plain": [
       "'C:\\\\Users\\\\user\\\\Desktop\\\\for github'"
      ]
     },
     "execution_count": 2,
     "metadata": {},
     "output_type": "execute_result"
    }
   ],
   "source": [
    "warnings.filterwarnings(\"ignore\")  \n",
    "os.getcwd()"
   ]
  },
  {
   "cell_type": "markdown",
   "metadata": {},
   "source": [
    "# Read csv- CGRD"
   ]
  },
  {
   "cell_type": "code",
   "execution_count": 3,
   "metadata": {},
   "outputs": [
    {
     "name": "stdout",
     "output_type": "stream",
     "text": [
      "<class 'pandas.core.frame.DataFrame'>\n",
      "RangeIndex: 268005 entries, 0 to 268004\n",
      "Columns: 114 entries, idcode to ICD_CODE\n",
      "dtypes: float64(20), int64(66), object(28)\n",
      "memory usage: 233.1+ MB\n",
      "<class 'pandas.core.frame.DataFrame'>\n",
      "RangeIndex: 271895 entries, 0 to 271894\n",
      "Columns: 114 entries, idcode to ICD_CODE\n",
      "dtypes: float64(20), int64(66), object(28)\n",
      "memory usage: 236.5+ MB\n",
      "<class 'pandas.core.frame.DataFrame'>\n",
      "RangeIndex: 274233 entries, 0 to 274232\n",
      "Columns: 114 entries, idcode to ICD_CODE\n",
      "dtypes: float64(17), int64(66), object(31)\n",
      "memory usage: 238.5+ MB\n"
     ]
    },
    {
     "data": {
      "text/html": [
       "<div>\n",
       "<style scoped>\n",
       "    .dataframe tbody tr th:only-of-type {\n",
       "        vertical-align: middle;\n",
       "    }\n",
       "\n",
       "    .dataframe tbody tr th {\n",
       "        vertical-align: top;\n",
       "    }\n",
       "\n",
       "    .dataframe thead th {\n",
       "        text-align: right;\n",
       "    }\n",
       "</style>\n",
       "<table border=\"1\" class=\"dataframe\">\n",
       "  <thead>\n",
       "    <tr style=\"text-align: right;\">\n",
       "      <th></th>\n",
       "      <th>idcode</th>\n",
       "      <th>breast</th>\n",
       "      <th>data_date</th>\n",
       "      <th>hosp</th>\n",
       "      <th>BC_n</th>\n",
       "      <th>bc_gp</th>\n",
       "      <th>FOBT</th>\n",
       "      <th>OC</th>\n",
       "      <th>birth_year</th>\n",
       "      <th>age</th>\n",
       "      <th>...</th>\n",
       "      <th>Colonscopy_past_date</th>\n",
       "      <th>Colorectal_cancer</th>\n",
       "      <th>CLNCDXDAT</th>\n",
       "      <th>CLNCDXDAT1</th>\n",
       "      <th>CAUSE</th>\n",
       "      <th>ICD</th>\n",
       "      <th>D_DATE</th>\n",
       "      <th>CAUSE_CNM</th>\n",
       "      <th>ICD_CODE</th>\n",
       "      <th>year</th>\n",
       "    </tr>\n",
       "  </thead>\n",
       "  <tbody>\n",
       "    <tr>\n",
       "      <th>274231</th>\n",
       "      <td>FFFF83BC5D8EBA54B38CD37DDD2A6B1AC8311471</td>\n",
       "      <td>NaN</td>\n",
       "      <td>201912</td>\n",
       "      <td>1132070011</td>\n",
       "      <td>N</td>\n",
       "      <td>NaN</td>\n",
       "      <td>NaN</td>\n",
       "      <td>2017-08-08</td>\n",
       "      <td>1964</td>\n",
       "      <td>55</td>\n",
       "      <td>...</td>\n",
       "      <td>NaN</td>\n",
       "      <td>0</td>\n",
       "      <td>NaN</td>\n",
       "      <td>NaN</td>\n",
       "      <td>NaN</td>\n",
       "      <td>NaN</td>\n",
       "      <td>NaN</td>\n",
       "      <td>NaN</td>\n",
       "      <td>NaN</td>\n",
       "      <td>2019</td>\n",
       "    </tr>\n",
       "    <tr>\n",
       "      <th>274232</th>\n",
       "      <td>FFFFAFA8D6A70AF762326FF3E6EBF5C5AEC56324</td>\n",
       "      <td>NaN</td>\n",
       "      <td>201909</td>\n",
       "      <td>1101010012</td>\n",
       "      <td>0</td>\n",
       "      <td>6.0</td>\n",
       "      <td>2017-03-02</td>\n",
       "      <td>NaN</td>\n",
       "      <td>1962</td>\n",
       "      <td>57</td>\n",
       "      <td>...</td>\n",
       "      <td>NaN</td>\n",
       "      <td>0</td>\n",
       "      <td>NaN</td>\n",
       "      <td>NaN</td>\n",
       "      <td>NaN</td>\n",
       "      <td>NaN</td>\n",
       "      <td>NaN</td>\n",
       "      <td>NaN</td>\n",
       "      <td>NaN</td>\n",
       "      <td>2019</td>\n",
       "    </tr>\n",
       "  </tbody>\n",
       "</table>\n",
       "<p>2 rows × 115 columns</p>\n",
       "</div>"
      ],
      "text/plain": [
       "                                          idcode breast  data_date  \\\n",
       "274231  FFFF83BC5D8EBA54B38CD37DDD2A6B1AC8311471    NaN     201912   \n",
       "274232  FFFFAFA8D6A70AF762326FF3E6EBF5C5AEC56324    NaN     201909   \n",
       "\n",
       "              hosp BC_n  bc_gp        FOBT          OC  birth_year  age  ...  \\\n",
       "274231  1132070011    N    NaN         NaN  2017-08-08        1964   55  ...   \n",
       "274232  1101010012    0    6.0  2017-03-02         NaN        1962   57  ...   \n",
       "\n",
       "        Colonscopy_past_date Colorectal_cancer  CLNCDXDAT CLNCDXDAT1  CAUSE  \\\n",
       "274231                   NaN                 0        NaN        NaN    NaN   \n",
       "274232                   NaN                 0        NaN        NaN    NaN   \n",
       "\n",
       "        ICD  D_DATE CAUSE_CNM ICD_CODE  year  \n",
       "274231  NaN     NaN       NaN      NaN  2019  \n",
       "274232  NaN     NaN       NaN      NaN  2019  \n",
       "\n",
       "[2 rows x 115 columns]"
      ]
     },
     "execution_count": 3,
     "metadata": {},
     "output_type": "execute_result"
    }
   ],
   "source": [
    "cgrd_2017 = pd.read_csv('data\\\\cgrd_2017.csv')\n",
    "cgrd_2018 = pd.read_csv('data\\\\cgrd_2018.csv')\n",
    "cgrd_2019 = pd.read_csv('data\\\\cgrd_2019.csv')\n",
    "\n",
    "cgrd_2017.info()\n",
    "cgrd_2018.info()\n",
    "cgrd_2019.info()\n",
    "\n",
    "cgrd_2017['year'] = 2017\n",
    "cgrd_2018['year'] = 2018\n",
    "cgrd_2019['year'] = 2019\n",
    "\n",
    "cgrd_2017.tail(2)\n",
    "cgrd_2018.tail(2)\n",
    "cgrd_2019.tail(2)"
   ]
  },
  {
   "cell_type": "code",
   "execution_count": 4,
   "metadata": {},
   "outputs": [
    {
     "data": {
      "text/html": [
       "<div>\n",
       "<style scoped>\n",
       "    .dataframe tbody tr th:only-of-type {\n",
       "        vertical-align: middle;\n",
       "    }\n",
       "\n",
       "    .dataframe tbody tr th {\n",
       "        vertical-align: top;\n",
       "    }\n",
       "\n",
       "    .dataframe thead th {\n",
       "        text-align: right;\n",
       "    }\n",
       "</style>\n",
       "<table border=\"1\" class=\"dataframe\">\n",
       "  <thead>\n",
       "    <tr style=\"text-align: right;\">\n",
       "      <th></th>\n",
       "      <th>idcode</th>\n",
       "      <th>breast</th>\n",
       "      <th>data_date</th>\n",
       "      <th>hosp</th>\n",
       "      <th>BC_n</th>\n",
       "      <th>bc_gp</th>\n",
       "      <th>FOBT</th>\n",
       "      <th>OC</th>\n",
       "      <th>birth_year</th>\n",
       "      <th>age</th>\n",
       "      <th>...</th>\n",
       "      <th>Colonscopy_past_date</th>\n",
       "      <th>Colorectal_cancer</th>\n",
       "      <th>CLNCDXDAT</th>\n",
       "      <th>CLNCDXDAT1</th>\n",
       "      <th>CAUSE</th>\n",
       "      <th>ICD</th>\n",
       "      <th>D_DATE</th>\n",
       "      <th>CAUSE_CNM</th>\n",
       "      <th>ICD_CODE</th>\n",
       "      <th>year</th>\n",
       "    </tr>\n",
       "  </thead>\n",
       "  <tbody>\n",
       "    <tr>\n",
       "      <th>814131</th>\n",
       "      <td>FFFF83BC5D8EBA54B38CD37DDD2A6B1AC8311471</td>\n",
       "      <td>NaN</td>\n",
       "      <td>201912</td>\n",
       "      <td>1132070011</td>\n",
       "      <td>N</td>\n",
       "      <td>NaN</td>\n",
       "      <td>NaN</td>\n",
       "      <td>2017-08-08</td>\n",
       "      <td>1964</td>\n",
       "      <td>55</td>\n",
       "      <td>...</td>\n",
       "      <td>NaN</td>\n",
       "      <td>0</td>\n",
       "      <td>NaN</td>\n",
       "      <td>NaN</td>\n",
       "      <td>NaN</td>\n",
       "      <td>NaN</td>\n",
       "      <td>NaN</td>\n",
       "      <td>NaN</td>\n",
       "      <td>NaN</td>\n",
       "      <td>2019</td>\n",
       "    </tr>\n",
       "    <tr>\n",
       "      <th>814132</th>\n",
       "      <td>FFFFAFA8D6A70AF762326FF3E6EBF5C5AEC56324</td>\n",
       "      <td>NaN</td>\n",
       "      <td>201909</td>\n",
       "      <td>1101010012</td>\n",
       "      <td>0</td>\n",
       "      <td>6.0</td>\n",
       "      <td>2017-03-02</td>\n",
       "      <td>NaN</td>\n",
       "      <td>1962</td>\n",
       "      <td>57</td>\n",
       "      <td>...</td>\n",
       "      <td>NaN</td>\n",
       "      <td>0</td>\n",
       "      <td>NaN</td>\n",
       "      <td>NaN</td>\n",
       "      <td>NaN</td>\n",
       "      <td>NaN</td>\n",
       "      <td>NaN</td>\n",
       "      <td>NaN</td>\n",
       "      <td>NaN</td>\n",
       "      <td>2019</td>\n",
       "    </tr>\n",
       "  </tbody>\n",
       "</table>\n",
       "<p>2 rows × 115 columns</p>\n",
       "</div>"
      ],
      "text/plain": [
       "                                          idcode breast  data_date  \\\n",
       "814131  FFFF83BC5D8EBA54B38CD37DDD2A6B1AC8311471    NaN     201912   \n",
       "814132  FFFFAFA8D6A70AF762326FF3E6EBF5C5AEC56324    NaN     201909   \n",
       "\n",
       "              hosp BC_n  bc_gp        FOBT          OC  birth_year  age  ...  \\\n",
       "814131  1132070011    N    NaN         NaN  2017-08-08        1964   55  ...   \n",
       "814132  1101010012    0    6.0  2017-03-02         NaN        1962   57  ...   \n",
       "\n",
       "        Colonscopy_past_date Colorectal_cancer  CLNCDXDAT CLNCDXDAT1  CAUSE  \\\n",
       "814131                   NaN                 0        NaN        NaN    NaN   \n",
       "814132                   NaN                 0        NaN        NaN    NaN   \n",
       "\n",
       "        ICD  D_DATE CAUSE_CNM ICD_CODE  year  \n",
       "814131  NaN     NaN       NaN      NaN  2019  \n",
       "814132  NaN     NaN       NaN      NaN  2019  \n",
       "\n",
       "[2 rows x 115 columns]"
      ]
     },
     "execution_count": 4,
     "metadata": {},
     "output_type": "execute_result"
    }
   ],
   "source": [
    "## concat 3 years\n",
    "cgrd_3y = pd.concat([cgrd_2017, cgrd_2018, cgrd_2019]).reset_index(drop=True)\n",
    "cgrd_3y.tail(2)"
   ]
  },
  {
   "cell_type": "markdown",
   "metadata": {},
   "source": [
    "# Select columns"
   ]
  },
  {
   "cell_type": "code",
   "execution_count": 5,
   "metadata": {},
   "outputs": [
    {
     "data": {
      "text/html": [
       "<div>\n",
       "<style scoped>\n",
       "    .dataframe tbody tr th:only-of-type {\n",
       "        vertical-align: middle;\n",
       "    }\n",
       "\n",
       "    .dataframe tbody tr th {\n",
       "        vertical-align: top;\n",
       "    }\n",
       "\n",
       "    .dataframe thead th {\n",
       "        text-align: right;\n",
       "    }\n",
       "</style>\n",
       "<table border=\"1\" class=\"dataframe\">\n",
       "  <thead>\n",
       "    <tr style=\"text-align: right;\">\n",
       "      <th></th>\n",
       "      <th>hosp</th>\n",
       "      <th>bc_gp</th>\n",
       "      <th>age_gp</th>\n",
       "      <th>oc_gp</th>\n",
       "      <th>pas_gp</th>\n",
       "      <th>sex</th>\n",
       "      <th>COUNTY_</th>\n",
       "      <th>hosp_shopping_logistic</th>\n",
       "      <th>CCI_DM_wo_chronic</th>\n",
       "      <th>CCI_DM_w_chronic</th>\n",
       "      <th>hypertension</th>\n",
       "      <th>hyperlipidemia</th>\n",
       "      <th>Hba1c</th>\n",
       "      <th>cholesterol</th>\n",
       "      <th>triglyceride</th>\n",
       "      <th>HDL</th>\n",
       "      <th>OPD_visit</th>\n",
       "      <th>IPD_visit</th>\n",
       "      <th>year</th>\n",
       "      <th>outcome_screen</th>\n",
       "    </tr>\n",
       "  </thead>\n",
       "  <tbody>\n",
       "    <tr>\n",
       "      <th>814131</th>\n",
       "      <td>Linkou</td>\n",
       "      <td>NaN</td>\n",
       "      <td>2</td>\n",
       "      <td>1</td>\n",
       "      <td>NaN</td>\n",
       "      <td>M</td>\n",
       "      <td>1</td>\n",
       "      <td>3</td>\n",
       "      <td>0</td>\n",
       "      <td>0</td>\n",
       "      <td>0</td>\n",
       "      <td>0</td>\n",
       "      <td>NaN</td>\n",
       "      <td>NaN</td>\n",
       "      <td>NaN</td>\n",
       "      <td>NaN</td>\n",
       "      <td>2</td>\n",
       "      <td>0</td>\n",
       "      <td>2019</td>\n",
       "      <td>0</td>\n",
       "    </tr>\n",
       "    <tr>\n",
       "      <th>814132</th>\n",
       "      <td>Taipei</td>\n",
       "      <td>6.0</td>\n",
       "      <td>2</td>\n",
       "      <td>9</td>\n",
       "      <td>4.0</td>\n",
       "      <td>F</td>\n",
       "      <td>1</td>\n",
       "      <td>NaN</td>\n",
       "      <td>0</td>\n",
       "      <td>0</td>\n",
       "      <td>0</td>\n",
       "      <td>0</td>\n",
       "      <td>NaN</td>\n",
       "      <td>NaN</td>\n",
       "      <td>NaN</td>\n",
       "      <td>NaN</td>\n",
       "      <td>0</td>\n",
       "      <td>0</td>\n",
       "      <td>2019</td>\n",
       "      <td>0</td>\n",
       "    </tr>\n",
       "  </tbody>\n",
       "</table>\n",
       "</div>"
      ],
      "text/plain": [
       "          hosp  bc_gp  age_gp  oc_gp  pas_gp sex  COUNTY_  \\\n",
       "814131  Linkou    NaN       2      1     NaN   M        1   \n",
       "814132  Taipei    6.0       2      9     4.0   F        1   \n",
       "\n",
       "       hosp_shopping_logistic  CCI_DM_wo_chronic  CCI_DM_w_chronic  \\\n",
       "814131                      3                  0                 0   \n",
       "814132                    NaN                  0                 0   \n",
       "\n",
       "        hypertension  hyperlipidemia  Hba1c  cholesterol  triglyceride  HDL  \\\n",
       "814131             0               0    NaN          NaN           NaN  NaN   \n",
       "814132             0               0    NaN          NaN           NaN  NaN   \n",
       "\n",
       "        OPD_visit  IPD_visit  year  outcome_screen  \n",
       "814131          2          0  2019               0  \n",
       "814132          0          0  2019               0  "
      ]
     },
     "execution_count": 5,
     "metadata": {},
     "output_type": "execute_result"
    }
   ],
   "source": [
    "df_3y = pd.DataFrame()\n",
    "df_3y['hosp'] = (cgrd_3y.hosp).map({1101010012:'Taipei', 1132070011:'Linkou'})\n",
    "df_3y['bc_gp'] = (cgrd_3y.bc_gp)\n",
    "df_3y['age_gp'] = (cgrd_3y.age_gp)\n",
    "df_3y['oc_gp'] = (cgrd_3y.oc_gp)\n",
    "df_3y['pas_gp'] = (cgrd_3y.pas_gp)\n",
    "df_3y['sex'] = (cgrd_3y.sex)\n",
    "df_3y['COUNTY_'] = (cgrd_3y.COUNTY_)\n",
    "df_3y['hosp_shopping_logistic'] = (cgrd_3y.hosp_shopping_logistic)\n",
    "# df_3y['CCI_MI'] = (cgrd_3y.CCI_MI)\n",
    "# df_3y['CCI_CHF'] = (cgrd_3y.CCI_CHF)\n",
    "\n",
    "# df_3y['CCI_PVD'] = (cgrd_3y.CCI_PVD)\n",
    "# df_3y['CCI_CVD'] = (cgrd_3y.CCI_CVD)\n",
    "# df_3y['CCI_Dementia'] = (cgrd_3y.CCI_Dementia)\n",
    "# df_3y['CCI_COPD'] = (cgrd_3y.CCI_COPD)\n",
    "# df_3y['CCI_Rheumatic'] = (cgrd_3y.CCI_Rheumatic)\n",
    "# df_3y['CCI_Ulcer'] = (cgrd_3y.CCI_Ulcer)\n",
    "# df_3y['CCI_MLD'] = (cgrd_3y.CCI_MLD)\n",
    "df_3y['CCI_DM_wo_chronic'] = (cgrd_3y.CCI_DM_wo_chronic)\n",
    "df_3y['CCI_DM_w_chronic'] = (cgrd_3y.CCI_DM_w_chronic)\n",
    "# df_3y['CCI_Hemiplegia'] = (cgrd_3y.CCI_Hemiplegia)\n",
    "\n",
    "# df_3y['CCI_Renal'] = (cgrd_3y.CCI_Renal)\n",
    "# df_3y['CCI_Malignancy'] = (cgrd_3y.CCI_Malignancy)\n",
    "# df_3y['CCI_MSLD'] = (cgrd_3y.CCI_MSLD)\n",
    "# df_3y['CCI_Cancer'] = (cgrd_3y.CCI_Cancer)\n",
    "# df_3y['CCI_AIDS'] = (cgrd_3y.CCI_AIDS)\n",
    "df_3y['hypertension'] = (cgrd_3y.hypertension)\n",
    "df_3y['hyperlipidemia'] = (cgrd_3y.hyperlipidemia)\n",
    "df_3y['Hba1c'] = (cgrd_3y.Hba1c)\n",
    "df_3y['cholesterol'] = (cgrd_3y.cholesterol)\n",
    "df_3y['triglyceride'] = (cgrd_3y.triglyceride)\n",
    "\n",
    "df_3y['HDL'] = (cgrd_3y.HDL)\n",
    "# df_3y['SelfPay_health_examination'] = (cgrd_3y.SelfPay_health_examination)\n",
    "# df_3y['health_examination'] = (cgrd_3y.health_examination)\n",
    "# df_3y['health_examination_diff'] = (cgrd_3y.health_examination_diff)\n",
    "# df_3y['Colonscopy_past'] = (cgrd_3y.Colonscopy_past)\n",
    "df_3y['OPD_visit'] = (cgrd_3y.OPD_visit)\n",
    "df_3y['IPD_visit'] = (cgrd_3y.IPD_visit)\n",
    "df_3y['year'] = (cgrd_3y.year)\n",
    "df_3y['outcome_screen'] = (cgrd_3y.outcome_screen)\n",
    "\n",
    "df_3y.tail(2)"
   ]
  },
  {
   "cell_type": "code",
   "execution_count": 6,
   "metadata": {},
   "outputs": [],
   "source": [
    "# df_3y.hosp_shopping_logistic.value_counts()"
   ]
  },
  {
   "cell_type": "code",
   "execution_count": 7,
   "metadata": {},
   "outputs": [
    {
     "data": {
      "text/plain": [
       "3    375282\n",
       "1    162043\n",
       "5     42125\n",
       "2      4289\n",
       "3      3847\n",
       "6      2226\n",
       "1      1578\n",
       "8      1507\n",
       "7       550\n",
       "5       447\n",
       "2        46\n",
       "6        24\n",
       "8        19\n",
       "Name: hosp_shopping_logistic, dtype: int64"
      ]
     },
     "execution_count": 7,
     "metadata": {},
     "output_type": "execute_result"
    }
   ],
   "source": [
    "df_3y['hosp_shopping_logistic'] = df_3y.hosp_shopping_logistic.replace('M', 7) ## \"M\"雲林\n",
    "df_3y['hosp_shopping_logistic'] = df_3y.hosp_shopping_logistic.replace(1.0, 1)\n",
    "df_3y['hosp_shopping_logistic'] = df_3y.hosp_shopping_logistic.replace(2.0, 2)\n",
    "df_3y['hosp_shopping_logistic'] = df_3y.hosp_shopping_logistic.replace(3.0, 3)\n",
    "df_3y['hosp_shopping_logistic'] = df_3y.hosp_shopping_logistic.replace(5.0, 5)\n",
    "df_3y['hosp_shopping_logistic'] = df_3y.hosp_shopping_logistic.replace(6.0, 6)\n",
    "df_3y['hosp_shopping_logistic'] = df_3y.hosp_shopping_logistic.replace(8.0, 8)\n",
    "\n",
    "df_3y.hosp_shopping_logistic.value_counts()"
   ]
  },
  {
   "cell_type": "markdown",
   "metadata": {},
   "source": [
    "# Split on sex"
   ]
  },
  {
   "cell_type": "code",
   "execution_count": 8,
   "metadata": {},
   "outputs": [
    {
     "name": "stdout",
     "output_type": "stream",
     "text": [
      "<class 'pandas.core.frame.DataFrame'>\n",
      "RangeIndex: 2779 entries, 0 to 2778\n",
      "Data columns (total 12 columns):\n",
      " #   Column                  Non-Null Count  Dtype  \n",
      "---  ------                  --------------  -----  \n",
      " 0   age_gp                  2779 non-null   int64  \n",
      " 1   oc_gp                   2779 non-null   int64  \n",
      " 2   COUNTY_                 2779 non-null   int64  \n",
      " 3   hosp_shopping_logistic  2774 non-null   object \n",
      " 4   Hba1c                   2622 non-null   float64\n",
      " 5   cholesterol             1674 non-null   float64\n",
      " 6   triglyceride            1782 non-null   float64\n",
      " 7   HDL                     1445 non-null   float64\n",
      " 8   OPD_visit               2779 non-null   int64  \n",
      " 9   IPD_visit               2779 non-null   int64  \n",
      " 10  year                    2779 non-null   int64  \n",
      " 11  outcome_screen          2779 non-null   int64  \n",
      "dtypes: float64(4), int64(7), object(1)\n",
      "memory usage: 260.7+ KB\n"
     ]
    }
   ],
   "source": [
    "## female in Linkou has HHH\n",
    "df_3y_M_L_HHH = df_3y[(df_3y.sex == 'M') & (df_3y.hosp == 'Linkou') & \n",
    "                      (df_3y.CCI_DM_wo_chronic == 1) & (df_3y.CCI_DM_w_chronic == 1) & \n",
    "                      (df_3y.hypertension == 1) & (df_3y.hyperlipidemia == 1)].reset_index(drop=True)\n",
    "\n",
    "del df_3y_M_L_HHH['sex']\n",
    "del df_3y_M_L_HHH['hosp']\n",
    "del df_3y_M_L_HHH['bc_gp']\n",
    "del df_3y_M_L_HHH['pas_gp']\n",
    "\n",
    "\n",
    "del df_3y_M_L_HHH['CCI_DM_wo_chronic']\n",
    "del df_3y_M_L_HHH['CCI_DM_w_chronic']\n",
    "del df_3y_M_L_HHH['hypertension']\n",
    "del df_3y_M_L_HHH['hyperlipidemia']\n",
    "\n",
    "df_3y_M_L_HHH.info()"
   ]
  },
  {
   "cell_type": "code",
   "execution_count": 9,
   "metadata": {},
   "outputs": [
    {
     "name": "stdout",
     "output_type": "stream",
     "text": [
      "<class 'pandas.core.frame.DataFrame'>\n",
      "RangeIndex: 1439 entries, 0 to 1438\n",
      "Data columns (total 12 columns):\n",
      " #   Column                  Non-Null Count  Dtype  \n",
      "---  ------                  --------------  -----  \n",
      " 0   age_gp                  1439 non-null   int64  \n",
      " 1   oc_gp                   1439 non-null   int64  \n",
      " 2   COUNTY_                 1439 non-null   int64  \n",
      " 3   hosp_shopping_logistic  1439 non-null   int32  \n",
      " 4   Hba1c                   1439 non-null   float64\n",
      " 5   cholesterol             1439 non-null   float64\n",
      " 6   triglyceride            1439 non-null   float64\n",
      " 7   HDL                     1439 non-null   float64\n",
      " 8   OPD_visit               1439 non-null   int64  \n",
      " 9   IPD_visit               1439 non-null   int64  \n",
      " 10  year                    1439 non-null   int64  \n",
      " 11  outcome_screen          1439 non-null   int64  \n",
      "dtypes: float64(4), int32(1), int64(7)\n",
      "memory usage: 129.4 KB\n"
     ]
    }
   ],
   "source": [
    "## dropna\n",
    "df_3y_M_L_HHH = df_3y_M_L_HHH.dropna().reset_index(drop=True)\n",
    "df_3y_M_L_HHH['hosp_shopping_logistic'] = df_3y_M_L_HHH.hosp_shopping_logistic.astype(int)\n",
    "df_3y_M_L_HHH.info()"
   ]
  },
  {
   "cell_type": "code",
   "execution_count": 10,
   "metadata": {},
   "outputs": [
    {
     "data": {
      "text/plain": [
       "<AxesSubplot:title={'center':'Male_Linkou_HHH outcome_screen of 3 years'}>"
      ]
     },
     "execution_count": 10,
     "metadata": {},
     "output_type": "execute_result"
    },
    {
     "data": {
      "image/png": "[encoded data removed]",
      "text/plain": [
       "<Figure size 432x288 with 1 Axes>"
      ]
     },
     "metadata": {
      "needs_background": "light"
     },
     "output_type": "display_data"
    }
   ],
   "source": [
    "df_3y_M_L_HHH.outcome_screen.value_counts().plot(kind='bar', title='Male_Linkou_HHH outcome_screen of 3 years')\n"
   ]
  },
  {
   "cell_type": "code",
   "execution_count": 11,
   "metadata": {},
   "outputs": [
    {
     "data": {
      "image/png": "[encoded data removed]",
      "text/plain": [
       "<Figure size 1152x288 with 3 Axes>"
      ]
     },
     "metadata": {
      "needs_background": "light"
     },
     "output_type": "display_data"
    }
   ],
   "source": [
    "fig = plt.figure(figsize=(16,4))\n",
    "\n",
    "ax1 = fig.add_subplot(131)\n",
    "ax1.bar(sorted(df_3y_M_L_HHH[df_3y_M_L_HHH.year == 2017].outcome_screen.unique()), \n",
    "        df_3y_M_L_HHH[df_3y_M_L_HHH.year == 2017].outcome_screen.value_counts(), tick_label=[0 , 1])\n",
    "ax1.set_title('2017 Female_Linkou_HHH outcome_screen')\n",
    "for x,y in zip(sorted(df_3y_M_L_HHH[df_3y_M_L_HHH.year == 2017].outcome_screen.unique()), df_3y_M_L_HHH[df_3y_M_L_HHH.year == 2017].outcome_screen.value_counts()):\n",
    "    ax1.text(x,y+0.05,y,fontsize=14,horizontalalignment='center')\n",
    "    \n",
    "ax2 = fig.add_subplot(132)\n",
    "ax2.bar(sorted(df_3y_M_L_HHH[df_3y_M_L_HHH.year == 2018].outcome_screen.unique()), \n",
    "        df_3y_M_L_HHH[df_3y_M_L_HHH.year == 2018].outcome_screen.value_counts(), tick_label=[0 , 1])\n",
    "ax2.set_title('2018 Female_Linkou_HHH outcome_screen')\n",
    "for x,y in zip(sorted(df_3y_M_L_HHH[df_3y_M_L_HHH.year == 2018].outcome_screen.unique()), df_3y_M_L_HHH[df_3y_M_L_HHH.year == 2018].outcome_screen.value_counts()):\n",
    "    ax2.text(x,y+0.05,y,fontsize=14,horizontalalignment='center')\n",
    "\n",
    "ax2 = fig.add_subplot(133)\n",
    "ax2.bar(sorted(df_3y_M_L_HHH[df_3y_M_L_HHH.year == 2019].outcome_screen.unique()), \n",
    "        df_3y_M_L_HHH[df_3y_M_L_HHH.year == 2019].outcome_screen.value_counts(), tick_label=[0 , 1])\n",
    "ax2.set_title('2018 Female_Linkou_HHH outcome_screen')\n",
    "for x,y in zip(sorted(df_3y_M_L_HHH[df_3y_M_L_HHH.year == 2019].outcome_screen.unique()), df_3y_M_L_HHH[df_3y_M_L_HHH.year == 2019].outcome_screen.value_counts()):\n",
    "    ax2.text(x,y+0.05,y,fontsize=14,horizontalalignment='center')\n",
    "plt.show()"
   ]
  },
  {
   "cell_type": "markdown",
   "metadata": {},
   "source": [
    "# Correlation"
   ]
  },
  {
   "cell_type": "code",
   "execution_count": 12,
   "metadata": {},
   "outputs": [
    {
     "data": {
      "text/html": [
       "<div>\n",
       "<style scoped>\n",
       "    .dataframe tbody tr th:only-of-type {\n",
       "        vertical-align: middle;\n",
       "    }\n",
       "\n",
       "    .dataframe tbody tr th {\n",
       "        vertical-align: top;\n",
       "    }\n",
       "\n",
       "    .dataframe thead th {\n",
       "        text-align: right;\n",
       "    }\n",
       "</style>\n",
       "<table border=\"1\" class=\"dataframe\">\n",
       "  <thead>\n",
       "    <tr style=\"text-align: right;\">\n",
       "      <th></th>\n",
       "      <th>age_gp</th>\n",
       "      <th>oc_gp</th>\n",
       "      <th>COUNTY_</th>\n",
       "      <th>hosp_shopping_logistic</th>\n",
       "      <th>Hba1c</th>\n",
       "      <th>cholesterol</th>\n",
       "      <th>triglyceride</th>\n",
       "      <th>HDL</th>\n",
       "      <th>outcome_screen</th>\n",
       "    </tr>\n",
       "  </thead>\n",
       "  <tbody>\n",
       "    <tr>\n",
       "      <th>age_gp</th>\n",
       "      <td>1.000000</td>\n",
       "      <td>0.064821</td>\n",
       "      <td>0.051753</td>\n",
       "      <td>-0.071543</td>\n",
       "      <td>-0.020722</td>\n",
       "      <td>0.021490</td>\n",
       "      <td>0.134288</td>\n",
       "      <td>0.024868</td>\n",
       "      <td>0.049280</td>\n",
       "    </tr>\n",
       "    <tr>\n",
       "      <th>oc_gp</th>\n",
       "      <td>0.064821</td>\n",
       "      <td>1.000000</td>\n",
       "      <td>0.036132</td>\n",
       "      <td>-0.018182</td>\n",
       "      <td>0.009397</td>\n",
       "      <td>0.008395</td>\n",
       "      <td>0.095795</td>\n",
       "      <td>0.024211</td>\n",
       "      <td>-0.065630</td>\n",
       "    </tr>\n",
       "    <tr>\n",
       "      <th>COUNTY_</th>\n",
       "      <td>0.051753</td>\n",
       "      <td>0.036132</td>\n",
       "      <td>1.000000</td>\n",
       "      <td>-0.156775</td>\n",
       "      <td>0.045505</td>\n",
       "      <td>-0.012053</td>\n",
       "      <td>-0.041842</td>\n",
       "      <td>-0.017575</td>\n",
       "      <td>0.021019</td>\n",
       "    </tr>\n",
       "    <tr>\n",
       "      <th>hosp_shopping_logistic</th>\n",
       "      <td>-0.071543</td>\n",
       "      <td>-0.018182</td>\n",
       "      <td>-0.156775</td>\n",
       "      <td>1.000000</td>\n",
       "      <td>0.053010</td>\n",
       "      <td>0.030300</td>\n",
       "      <td>0.006957</td>\n",
       "      <td>-0.023554</td>\n",
       "      <td>0.012958</td>\n",
       "    </tr>\n",
       "    <tr>\n",
       "      <th>Hba1c</th>\n",
       "      <td>-0.020722</td>\n",
       "      <td>0.009397</td>\n",
       "      <td>0.045505</td>\n",
       "      <td>0.053010</td>\n",
       "      <td>1.000000</td>\n",
       "      <td>0.064335</td>\n",
       "      <td>0.146748</td>\n",
       "      <td>0.103678</td>\n",
       "      <td>0.020355</td>\n",
       "    </tr>\n",
       "    <tr>\n",
       "      <th>cholesterol</th>\n",
       "      <td>0.021490</td>\n",
       "      <td>0.008395</td>\n",
       "      <td>-0.012053</td>\n",
       "      <td>0.030300</td>\n",
       "      <td>0.064335</td>\n",
       "      <td>1.000000</td>\n",
       "      <td>0.113196</td>\n",
       "      <td>-0.025562</td>\n",
       "      <td>-0.007535</td>\n",
       "    </tr>\n",
       "    <tr>\n",
       "      <th>triglyceride</th>\n",
       "      <td>0.134288</td>\n",
       "      <td>0.095795</td>\n",
       "      <td>-0.041842</td>\n",
       "      <td>0.006957</td>\n",
       "      <td>0.146748</td>\n",
       "      <td>0.113196</td>\n",
       "      <td>1.000000</td>\n",
       "      <td>0.294401</td>\n",
       "      <td>0.017177</td>\n",
       "    </tr>\n",
       "    <tr>\n",
       "      <th>HDL</th>\n",
       "      <td>0.024868</td>\n",
       "      <td>0.024211</td>\n",
       "      <td>-0.017575</td>\n",
       "      <td>-0.023554</td>\n",
       "      <td>0.103678</td>\n",
       "      <td>-0.025562</td>\n",
       "      <td>0.294401</td>\n",
       "      <td>1.000000</td>\n",
       "      <td>0.060513</td>\n",
       "    </tr>\n",
       "    <tr>\n",
       "      <th>outcome_screen</th>\n",
       "      <td>0.049280</td>\n",
       "      <td>-0.065630</td>\n",
       "      <td>0.021019</td>\n",
       "      <td>0.012958</td>\n",
       "      <td>0.020355</td>\n",
       "      <td>-0.007535</td>\n",
       "      <td>0.017177</td>\n",
       "      <td>0.060513</td>\n",
       "      <td>1.000000</td>\n",
       "    </tr>\n",
       "  </tbody>\n",
       "</table>\n",
       "</div>"
      ],
      "text/plain": [
       "                          age_gp     oc_gp   COUNTY_  hosp_shopping_logistic  \\\n",
       "age_gp                  1.000000  0.064821  0.051753               -0.071543   \n",
       "oc_gp                   0.064821  1.000000  0.036132               -0.018182   \n",
       "COUNTY_                 0.051753  0.036132  1.000000               -0.156775   \n",
       "hosp_shopping_logistic -0.071543 -0.018182 -0.156775                1.000000   \n",
       "Hba1c                  -0.020722  0.009397  0.045505                0.053010   \n",
       "cholesterol             0.021490  0.008395 -0.012053                0.030300   \n",
       "triglyceride            0.134288  0.095795 -0.041842                0.006957   \n",
       "HDL                     0.024868  0.024211 -0.017575               -0.023554   \n",
       "outcome_screen          0.049280 -0.065630  0.021019                0.012958   \n",
       "\n",
       "                           Hba1c  cholesterol  triglyceride       HDL  \\\n",
       "age_gp                 -0.020722     0.021490      0.134288  0.024868   \n",
       "oc_gp                   0.009397     0.008395      0.095795  0.024211   \n",
       "COUNTY_                 0.045505    -0.012053     -0.041842 -0.017575   \n",
       "hosp_shopping_logistic  0.053010     0.030300      0.006957 -0.023554   \n",
       "Hba1c                   1.000000     0.064335      0.146748  0.103678   \n",
       "cholesterol             0.064335     1.000000      0.113196 -0.025562   \n",
       "triglyceride            0.146748     0.113196      1.000000  0.294401   \n",
       "HDL                     0.103678    -0.025562      0.294401  1.000000   \n",
       "outcome_screen          0.020355    -0.007535      0.017177  0.060513   \n",
       "\n",
       "                        outcome_screen  \n",
       "age_gp                        0.049280  \n",
       "oc_gp                        -0.065630  \n",
       "COUNTY_                       0.021019  \n",
       "hosp_shopping_logistic        0.012958  \n",
       "Hba1c                         0.020355  \n",
       "cholesterol                  -0.007535  \n",
       "triglyceride                  0.017177  \n",
       "HDL                           0.060513  \n",
       "outcome_screen                1.000000  "
      ]
     },
     "execution_count": 12,
     "metadata": {},
     "output_type": "execute_result"
    }
   ],
   "source": [
    "## category\n",
    "df_3y_M_L_HHHy_catg = df_3y_M_L_HHH.iloc[:, :-4]\n",
    "df_3y_M_L_HHHy_catg['outcome_screen'] = df_3y_M_L_HHH.outcome_screen\n",
    "\n",
    "df_3y_M_L_HHHy_catg.corr(method='spearman')"
   ]
  },
  {
   "cell_type": "code",
   "execution_count": 13,
   "metadata": {},
   "outputs": [
    {
     "data": {
      "text/html": [
       "<div>\n",
       "<style scoped>\n",
       "    .dataframe tbody tr th:only-of-type {\n",
       "        vertical-align: middle;\n",
       "    }\n",
       "\n",
       "    .dataframe tbody tr th {\n",
       "        vertical-align: top;\n",
       "    }\n",
       "\n",
       "    .dataframe thead th {\n",
       "        text-align: right;\n",
       "    }\n",
       "</style>\n",
       "<table border=\"1\" class=\"dataframe\">\n",
       "  <thead>\n",
       "    <tr style=\"text-align: right;\">\n",
       "      <th></th>\n",
       "      <th>OPD_visit</th>\n",
       "      <th>IPD_visit</th>\n",
       "      <th>outcome_screen</th>\n",
       "    </tr>\n",
       "  </thead>\n",
       "  <tbody>\n",
       "    <tr>\n",
       "      <th>OPD_visit</th>\n",
       "      <td>1.000000</td>\n",
       "      <td>0.388044</td>\n",
       "      <td>-0.012963</td>\n",
       "    </tr>\n",
       "    <tr>\n",
       "      <th>IPD_visit</th>\n",
       "      <td>0.388044</td>\n",
       "      <td>1.000000</td>\n",
       "      <td>-0.024960</td>\n",
       "    </tr>\n",
       "    <tr>\n",
       "      <th>outcome_screen</th>\n",
       "      <td>-0.012963</td>\n",
       "      <td>-0.024960</td>\n",
       "      <td>1.000000</td>\n",
       "    </tr>\n",
       "  </tbody>\n",
       "</table>\n",
       "</div>"
      ],
      "text/plain": [
       "                OPD_visit  IPD_visit  outcome_screen\n",
       "OPD_visit        1.000000   0.388044       -0.012963\n",
       "IPD_visit        0.388044   1.000000       -0.024960\n",
       "outcome_screen  -0.012963  -0.024960        1.000000"
      ]
     },
     "execution_count": 13,
     "metadata": {},
     "output_type": "execute_result"
    }
   ],
   "source": [
    "## numeric \n",
    "df_3y_M_L_HHHy_num = df_3y_M_L_HHH.iloc[:, -4:-2]\n",
    "df_3y_M_L_HHHy_num['outcome_screen'] = df_3y_M_L_HHH.outcome_screen\n",
    "df_3y_M_L_HHHy_num.corr()"
   ]
  },
  {
   "cell_type": "markdown",
   "metadata": {},
   "source": [
    "# Split to training/ valid/ test"
   ]
  },
  {
   "cell_type": "code",
   "execution_count": 14,
   "metadata": {},
   "outputs": [],
   "source": [
    "X_train = df_3y_M_L_HHH[df_3y_M_L_HHH.year == 2017].iloc[:, :-4]\n",
    "y_train = df_3y_M_L_HHH[df_3y_M_L_HHH.year == 2017].outcome_screen\n",
    "\n",
    "X_valid = df_3y_M_L_HHH[df_3y_M_L_HHH.year == 2018].iloc[:, :-4]\n",
    "y_valid = df_3y_M_L_HHH[df_3y_M_L_HHH.year == 2018].outcome_screen\n",
    "\n",
    "X_test = df_3y_M_L_HHH[df_3y_M_L_HHH.year == 2019].iloc[:, :-4]\n",
    "y_test = df_3y_M_L_HHH[df_3y_M_L_HHH.year == 2019].outcome_screen"
   ]
  },
  {
   "cell_type": "markdown",
   "metadata": {},
   "source": [
    "# Model_XGBoost Classifier"
   ]
  },
  {
   "cell_type": "code",
   "execution_count": 15,
   "metadata": {
    "scrolled": true
   },
   "outputs": [
    {
     "name": "stdout",
     "output_type": "stream",
     "text": [
      "[15:50:39] WARNING: D:\\Build\\xgboost\\xgboost-1.4.2.git\\src\\learner.cc:1095: Starting in XGBoost 1.3.0, the default evaluation metric used with the objective 'binary:logistic' was changed from 'error' to 'logloss'. Explicitly set eval_metric if you'd like to restore the old behavior.\n",
      "[15:50:39] WARNING: D:\\Build\\xgboost\\xgboost-1.4.2.git\\src\\learner.cc:1095: Starting in XGBoost 1.3.0, the default evaluation metric used with the objective 'binary:logistic' was changed from 'error' to 'logloss'. Explicitly set eval_metric if you'd like to restore the old behavior.\n",
      "[15:50:39] WARNING: D:\\Build\\xgboost\\xgboost-1.4.2.git\\src\\learner.cc:1095: Starting in XGBoost 1.3.0, the default evaluation metric used with the objective 'binary:logistic' was changed from 'error' to 'logloss'. Explicitly set eval_metric if you'd like to restore the old behavior.\n",
      "[15:50:39] WARNING: D:\\Build\\xgboost\\xgboost-1.4.2.git\\src\\learner.cc:1095: Starting in XGBoost 1.3.0, the default evaluation metric used with the objective 'binary:logistic' was changed from 'error' to 'logloss'. Explicitly set eval_metric if you'd like to restore the old behavior.\n",
      "[15:50:39] WARNING: D:\\Build\\xgboost\\xgboost-1.4.2.git\\src\\learner.cc:1095: Starting in XGBoost 1.3.0, the default evaluation metric used with the objective 'binary:logistic' was changed from 'error' to 'logloss'. Explicitly set eval_metric if you'd like to restore the old behavior.\n",
      "1.4.2\n",
      "[0.53571429 0.48809524 0.5952381  0.57831325 0.54216867]\n",
      "XGBClassifier: 0.5479059093516925\n",
      "--- 0.25792908668518066 seconds ---\n"
     ]
    }
   ],
   "source": [
    "start_time = time.time()\n",
    "\n",
    "xgb = XGBClassifier()\n",
    "cv = cross_val_score(xgb,X_train,y_train,cv=5)\n",
    "print(xgboost.__version__)\n",
    "print(cv)\n",
    "print('XGBClassifier:', cv.mean())\n",
    "print(\"--- %s seconds ---\" % (time.time() - start_time))\n"
   ]
  },
  {
   "cell_type": "markdown",
   "metadata": {},
   "source": [
    "# Training"
   ]
  },
  {
   "cell_type": "code",
   "execution_count": 16,
   "metadata": {},
   "outputs": [
    {
     "name": "stdout",
     "output_type": "stream",
     "text": [
      "[15:50:39] WARNING: D:\\Build\\xgboost\\xgboost-1.4.2.git\\src\\learner.cc:1095: Starting in XGBoost 1.3.0, the default evaluation metric used with the objective 'binary:logistic' was changed from 'error' to 'logloss'. Explicitly set eval_metric if you'd like to restore the old behavior.\n"
     ]
    },
    {
     "data": {
      "image/png": "[encoded data removed]",
      "text/plain": [
       "<Figure size 432x288 with 2 Axes>"
      ]
     },
     "metadata": {
      "needs_background": "light"
     },
     "output_type": "display_data"
    },
    {
     "data": {
      "image/png": "[encoded data removed]",
      "text/plain": [
       "<Figure size 432x288 with 1 Axes>"
      ]
     },
     "metadata": {
      "needs_background": "light"
     },
     "output_type": "display_data"
    },
    {
     "name": "stdout",
     "output_type": "stream",
     "text": [
      "--------------- True/False Pos/Neg ---------------\n",
      "              True Neg False Pos False Neg True Pos    AUC\n",
      "M_L_HHH_train      222        31        65      100  0.742 \n",
      "\n",
      "[15:50:39] WARNING: D:\\Build\\xgboost\\xgboost-1.4.2.git\\src\\learner.cc:1095: Starting in XGBoost 1.3.0, the default evaluation metric used with the objective 'binary:logistic' was changed from 'error' to 'logloss'. Explicitly set eval_metric if you'd like to restore the old behavior.\n"
     ]
    }
   ],
   "source": [
    "train = confusio_matrix(xgb, X_train, y_train)\n",
    "plot_roc_curve(xgb, X_train, y_train)\n",
    "\n",
    "train = train.rename(index={0: \"M_L_HHH_train\"})\n",
    "print('--------------- True/False Pos/Neg ---------------')\n",
    "print(train, '\\n')\n",
    "\n",
    "train_imp = get_impotances(xgb, X_train, y_train)\n",
    "train_imp.columns = ['M_L_HHH_column', 'M_L_HHH_train_impor']\n",
    "\n",
    "# train_imp"
   ]
  },
  {
   "cell_type": "markdown",
   "metadata": {},
   "source": [
    "# Validation"
   ]
  },
  {
   "cell_type": "code",
   "execution_count": 17,
   "metadata": {},
   "outputs": [
    {
     "name": "stdout",
     "output_type": "stream",
     "text": [
      "[15:50:39] WARNING: D:\\Build\\xgboost\\xgboost-1.4.2.git\\src\\learner.cc:1095: Starting in XGBoost 1.3.0, the default evaluation metric used with the objective 'binary:logistic' was changed from 'error' to 'logloss'. Explicitly set eval_metric if you'd like to restore the old behavior.\n"
     ]
    },
    {
     "data": {
      "image/png": "[encoded data removed]",
      "text/plain": [
       "<Figure size 432x288 with 2 Axes>"
      ]
     },
     "metadata": {
      "needs_background": "light"
     },
     "output_type": "display_data"
    },
    {
     "data": {
      "image/png": "[encoded data removed]",
      "text/plain": [
       "<Figure size 432x288 with 1 Axes>"
      ]
     },
     "metadata": {
      "needs_background": "light"
     },
     "output_type": "display_data"
    },
    {
     "name": "stdout",
     "output_type": "stream",
     "text": [
      "--------------- True/False Pos/Neg ---------------\n",
      "              True Neg False Pos False Neg True Pos    AUC\n",
      "M_L_HHH_valid      190        54        56      144  0.749 \n",
      "\n",
      "[15:50:40] WARNING: D:\\Build\\xgboost\\xgboost-1.4.2.git\\src\\learner.cc:1095: Starting in XGBoost 1.3.0, the default evaluation metric used with the objective 'binary:logistic' was changed from 'error' to 'logloss'. Explicitly set eval_metric if you'd like to restore the old behavior.\n"
     ]
    }
   ],
   "source": [
    "valid = confusio_matrix(xgb, X_valid, y_valid)\n",
    "plot_roc_curve(xgb, X_valid, y_valid)\n",
    "\n",
    "valid = valid.rename(index={0: \"M_L_HHH_valid\"})\n",
    "print('--------------- True/False Pos/Neg ---------------')\n",
    "print(valid, '\\n')\n",
    "\n",
    "valid_imp = get_impotances(xgb, X_valid, y_valid)\n",
    "valid_imp.columns = ['M_L_HHH_column', 'M_L_HHH_valid_impor']\n",
    "# valid_imp"
   ]
  },
  {
   "cell_type": "markdown",
   "metadata": {},
   "source": [
    "# Test"
   ]
  },
  {
   "cell_type": "code",
   "execution_count": 18,
   "metadata": {},
   "outputs": [
    {
     "name": "stdout",
     "output_type": "stream",
     "text": [
      "[15:50:40] WARNING: D:\\Build\\xgboost\\xgboost-1.4.2.git\\src\\learner.cc:1095: Starting in XGBoost 1.3.0, the default evaluation metric used with the objective 'binary:logistic' was changed from 'error' to 'logloss'. Explicitly set eval_metric if you'd like to restore the old behavior.\n"
     ]
    },
    {
     "data": {
      "image/png": "[encoded data removed]",
      "text/plain": [
       "<Figure size 432x288 with 2 Axes>"
      ]
     },
     "metadata": {
      "needs_background": "light"
     },
     "output_type": "display_data"
    },
    {
     "data": {
      "image/png": "[encoded data removed]",
      "text/plain": [
       "<Figure size 432x288 with 1 Axes>"
      ]
     },
     "metadata": {
      "needs_background": "light"
     },
     "output_type": "display_data"
    },
    {
     "name": "stdout",
     "output_type": "stream",
     "text": [
      "--------------- True/False Pos/Neg ---------------\n",
      "             True Neg False Pos False Neg True Pos    AUC\n",
      "M_L_HHH_test      309        50       100      118  0.701 \n",
      "\n",
      "[15:50:40] WARNING: D:\\Build\\xgboost\\xgboost-1.4.2.git\\src\\learner.cc:1095: Starting in XGBoost 1.3.0, the default evaluation metric used with the objective 'binary:logistic' was changed from 'error' to 'logloss'. Explicitly set eval_metric if you'd like to restore the old behavior.\n"
     ]
    }
   ],
   "source": [
    "test = confusio_matrix(xgb, X_test, y_test)\n",
    "plot_roc_curve(xgb, X_test, y_test)\n",
    "\n",
    "test = test.rename(index={0: \"M_L_HHH_test\"})\n",
    "print('--------------- True/False Pos/Neg ---------------')\n",
    "print(test, '\\n')\n",
    "\n",
    "test_imp = get_impotances(xgb, X_test, y_test)\n",
    "test_imp.columns = ['M_L_HHH_column', 'M_L_HHH_test_impor']\n",
    "# test_imp"
   ]
  },
  {
   "cell_type": "markdown",
   "metadata": {},
   "source": [
    "# Result"
   ]
  },
  {
   "cell_type": "code",
   "execution_count": 19,
   "metadata": {},
   "outputs": [
    {
     "name": "stdout",
     "output_type": "stream",
     "text": [
      "--- Male_Linkou HHH result---\n"
     ]
    },
    {
     "data": {
      "text/html": [
       "<div>\n",
       "<style scoped>\n",
       "    .dataframe tbody tr th:only-of-type {\n",
       "        vertical-align: middle;\n",
       "    }\n",
       "\n",
       "    .dataframe tbody tr th {\n",
       "        vertical-align: top;\n",
       "    }\n",
       "\n",
       "    .dataframe thead th {\n",
       "        text-align: right;\n",
       "    }\n",
       "</style>\n",
       "<table border=\"1\" class=\"dataframe\">\n",
       "  <thead>\n",
       "    <tr style=\"text-align: right;\">\n",
       "      <th></th>\n",
       "      <th>True Neg</th>\n",
       "      <th>False Pos</th>\n",
       "      <th>False Neg</th>\n",
       "      <th>True Pos</th>\n",
       "      <th>AUC</th>\n",
       "    </tr>\n",
       "  </thead>\n",
       "  <tbody>\n",
       "    <tr>\n",
       "      <th>M_L_HHH_train</th>\n",
       "      <td>222</td>\n",
       "      <td>31</td>\n",
       "      <td>65</td>\n",
       "      <td>100</td>\n",
       "      <td>0.742</td>\n",
       "    </tr>\n",
       "    <tr>\n",
       "      <th>M_L_HHH_valid</th>\n",
       "      <td>190</td>\n",
       "      <td>54</td>\n",
       "      <td>56</td>\n",
       "      <td>144</td>\n",
       "      <td>0.749</td>\n",
       "    </tr>\n",
       "    <tr>\n",
       "      <th>M_L_HHH_test</th>\n",
       "      <td>309</td>\n",
       "      <td>50</td>\n",
       "      <td>100</td>\n",
       "      <td>118</td>\n",
       "      <td>0.701</td>\n",
       "    </tr>\n",
       "  </tbody>\n",
       "</table>\n",
       "</div>"
      ],
      "text/plain": [
       "              True Neg False Pos False Neg True Pos    AUC\n",
       "M_L_HHH_train      222        31        65      100  0.742\n",
       "M_L_HHH_valid      190        54        56      144  0.749\n",
       "M_L_HHH_test       309        50       100      118  0.701"
      ]
     },
     "execution_count": 19,
     "metadata": {},
     "output_type": "execute_result"
    }
   ],
   "source": [
    "print('--- Male_Linkou HHH result---')\n",
    "result = pd.concat([train, valid, test])\n",
    "result "
   ]
  },
  {
   "cell_type": "code",
   "execution_count": 20,
   "metadata": {},
   "outputs": [
    {
     "data": {
      "text/html": [
       "<div>\n",
       "<style scoped>\n",
       "    .dataframe tbody tr th:only-of-type {\n",
       "        vertical-align: middle;\n",
       "    }\n",
       "\n",
       "    .dataframe tbody tr th {\n",
       "        vertical-align: top;\n",
       "    }\n",
       "\n",
       "    .dataframe thead th {\n",
       "        text-align: right;\n",
       "    }\n",
       "</style>\n",
       "<table border=\"1\" class=\"dataframe\">\n",
       "  <thead>\n",
       "    <tr style=\"text-align: right;\">\n",
       "      <th></th>\n",
       "      <th>M_L_HHH_column</th>\n",
       "      <th>M_L_HHH_train_impor</th>\n",
       "      <th>M_L_HHH_valid_impor</th>\n",
       "      <th>M_L_HHH_test_impor</th>\n",
       "    </tr>\n",
       "  </thead>\n",
       "  <tbody>\n",
       "    <tr>\n",
       "      <th>0</th>\n",
       "      <td>HDL</td>\n",
       "      <td>0.144303</td>\n",
       "      <td>0.123000</td>\n",
       "      <td>0.144632</td>\n",
       "    </tr>\n",
       "    <tr>\n",
       "      <th>1</th>\n",
       "      <td>Hba1c</td>\n",
       "      <td>0.140342</td>\n",
       "      <td>0.126694</td>\n",
       "      <td>0.118604</td>\n",
       "    </tr>\n",
       "    <tr>\n",
       "      <th>2</th>\n",
       "      <td>triglyceride</td>\n",
       "      <td>0.135444</td>\n",
       "      <td>0.155727</td>\n",
       "      <td>0.151284</td>\n",
       "    </tr>\n",
       "    <tr>\n",
       "      <th>3</th>\n",
       "      <td>age_gp</td>\n",
       "      <td>0.134495</td>\n",
       "      <td>0.134225</td>\n",
       "      <td>0.108069</td>\n",
       "    </tr>\n",
       "    <tr>\n",
       "      <th>4</th>\n",
       "      <td>COUNTY_</td>\n",
       "      <td>0.132816</td>\n",
       "      <td>0.133972</td>\n",
       "      <td>0.084136</td>\n",
       "    </tr>\n",
       "    <tr>\n",
       "      <th>5</th>\n",
       "      <td>hosp_shopping_logistic</td>\n",
       "      <td>0.125418</td>\n",
       "      <td>0.143996</td>\n",
       "      <td>0.152015</td>\n",
       "    </tr>\n",
       "    <tr>\n",
       "      <th>6</th>\n",
       "      <td>oc_gp</td>\n",
       "      <td>0.122670</td>\n",
       "      <td>0.119154</td>\n",
       "      <td>0.116112</td>\n",
       "    </tr>\n",
       "    <tr>\n",
       "      <th>7</th>\n",
       "      <td>cholesterol</td>\n",
       "      <td>0.064513</td>\n",
       "      <td>0.063233</td>\n",
       "      <td>0.125149</td>\n",
       "    </tr>\n",
       "  </tbody>\n",
       "</table>\n",
       "</div>"
      ],
      "text/plain": [
       "           M_L_HHH_column  M_L_HHH_train_impor  M_L_HHH_valid_impor  \\\n",
       "0                     HDL             0.144303             0.123000   \n",
       "1                   Hba1c             0.140342             0.126694   \n",
       "2            triglyceride             0.135444             0.155727   \n",
       "3                  age_gp             0.134495             0.134225   \n",
       "4                 COUNTY_             0.132816             0.133972   \n",
       "5  hosp_shopping_logistic             0.125418             0.143996   \n",
       "6                   oc_gp             0.122670             0.119154   \n",
       "7             cholesterol             0.064513             0.063233   \n",
       "\n",
       "   M_L_HHH_test_impor  \n",
       "0            0.144632  \n",
       "1            0.118604  \n",
       "2            0.151284  \n",
       "3            0.108069  \n",
       "4            0.084136  \n",
       "5            0.152015  \n",
       "6            0.116112  \n",
       "7            0.125149  "
      ]
     },
     "execution_count": 20,
     "metadata": {},
     "output_type": "execute_result"
    }
   ],
   "source": [
    "result1 = train_imp.merge(valid_imp, left_on='M_L_HHH_column', right_on='M_L_HHH_column')\n",
    "result1 = result1.merge(test_imp, left_on='M_L_HHH_column', right_on='M_L_HHH_column')\n",
    "result1"
   ]
  },
  {
   "cell_type": "code",
   "execution_count": null,
   "metadata": {},
   "outputs": [],
   "source": []
  }
 ],
 "metadata": {
  "kernelspec": {
   "display_name": "Python 3",
   "language": "python",
   "name": "python3"
  },
  "language_info": {
   "codemirror_mode": {
    "name": "ipython",
    "version": 3
   },
   "file_extension": ".py",
   "mimetype": "text/x-python",
   "name": "python",
   "nbconvert_exporter": "python",
   "pygments_lexer": "ipython3",
   "version": "3.8.5"
  }
 },
 "nbformat": 4,
 "nbformat_minor": 4
}
