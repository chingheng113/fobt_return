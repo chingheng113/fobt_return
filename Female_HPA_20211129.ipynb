{
 "cells": [
  {
   "cell_type": "markdown",
   "metadata": {},
   "source": [
    "# Health Promotion Administration"
   ]
  },
  {
   "cell_type": "code",
   "execution_count": 1,
   "metadata": {},
   "outputs": [],
   "source": [
    "import numpy as np\n",
    "from utils import *"
   ]
  },
  {
   "cell_type": "code",
   "execution_count": 2,
   "metadata": {},
   "outputs": [
    {
     "data": {
      "text/plain": [
       "'C:\\\\Users\\\\user\\\\Desktop\\\\for github'"
      ]
     },
     "execution_count": 2,
     "metadata": {},
     "output_type": "execute_result"
    }
   ],
   "source": [
    "warnings.filterwarnings(\"ignore\")  \n",
    "os.getcwd()"
   ]
  },
  {
   "cell_type": "markdown",
   "metadata": {},
   "source": [
    "# Read csv- CGRD"
   ]
  },
  {
   "cell_type": "code",
   "execution_count": 3,
   "metadata": {},
   "outputs": [
    {
     "name": "stdout",
     "output_type": "stream",
     "text": [
      "<class 'pandas.core.frame.DataFrame'>\n",
      "RangeIndex: 268005 entries, 0 to 268004\n",
      "Columns: 114 entries, idcode to ICD_CODE\n",
      "dtypes: float64(20), int64(66), object(28)\n",
      "memory usage: 233.1+ MB\n",
      "<class 'pandas.core.frame.DataFrame'>\n",
      "RangeIndex: 271895 entries, 0 to 271894\n",
      "Columns: 114 entries, idcode to ICD_CODE\n",
      "dtypes: float64(20), int64(66), object(28)\n",
      "memory usage: 236.5+ MB\n",
      "<class 'pandas.core.frame.DataFrame'>\n",
      "RangeIndex: 274233 entries, 0 to 274232\n",
      "Columns: 114 entries, idcode to ICD_CODE\n",
      "dtypes: float64(17), int64(66), object(31)\n",
      "memory usage: 238.5+ MB\n"
     ]
    },
    {
     "data": {
      "text/html": [
       "<div>\n",
       "<style scoped>\n",
       "    .dataframe tbody tr th:only-of-type {\n",
       "        vertical-align: middle;\n",
       "    }\n",
       "\n",
       "    .dataframe tbody tr th {\n",
       "        vertical-align: top;\n",
       "    }\n",
       "\n",
       "    .dataframe thead th {\n",
       "        text-align: right;\n",
       "    }\n",
       "</style>\n",
       "<table border=\"1\" class=\"dataframe\">\n",
       "  <thead>\n",
       "    <tr style=\"text-align: right;\">\n",
       "      <th></th>\n",
       "      <th>idcode</th>\n",
       "      <th>breast</th>\n",
       "      <th>data_date</th>\n",
       "      <th>hosp</th>\n",
       "      <th>BC_n</th>\n",
       "      <th>bc_gp</th>\n",
       "      <th>FOBT</th>\n",
       "      <th>OC</th>\n",
       "      <th>birth_year</th>\n",
       "      <th>age</th>\n",
       "      <th>...</th>\n",
       "      <th>Colonscopy_past_date</th>\n",
       "      <th>Colorectal_cancer</th>\n",
       "      <th>CLNCDXDAT</th>\n",
       "      <th>CLNCDXDAT1</th>\n",
       "      <th>CAUSE</th>\n",
       "      <th>ICD</th>\n",
       "      <th>D_DATE</th>\n",
       "      <th>CAUSE_CNM</th>\n",
       "      <th>ICD_CODE</th>\n",
       "      <th>year</th>\n",
       "    </tr>\n",
       "  </thead>\n",
       "  <tbody>\n",
       "    <tr>\n",
       "      <th>274231</th>\n",
       "      <td>FFFF83BC5D8EBA54B38CD37DDD2A6B1AC8311471</td>\n",
       "      <td>NaN</td>\n",
       "      <td>201912</td>\n",
       "      <td>1132070011</td>\n",
       "      <td>N</td>\n",
       "      <td>NaN</td>\n",
       "      <td>NaN</td>\n",
       "      <td>2017-08-08</td>\n",
       "      <td>1964</td>\n",
       "      <td>55</td>\n",
       "      <td>...</td>\n",
       "      <td>NaN</td>\n",
       "      <td>0</td>\n",
       "      <td>NaN</td>\n",
       "      <td>NaN</td>\n",
       "      <td>NaN</td>\n",
       "      <td>NaN</td>\n",
       "      <td>NaN</td>\n",
       "      <td>NaN</td>\n",
       "      <td>NaN</td>\n",
       "      <td>2019</td>\n",
       "    </tr>\n",
       "    <tr>\n",
       "      <th>274232</th>\n",
       "      <td>FFFFAFA8D6A70AF762326FF3E6EBF5C5AEC56324</td>\n",
       "      <td>NaN</td>\n",
       "      <td>201909</td>\n",
       "      <td>1101010012</td>\n",
       "      <td>0</td>\n",
       "      <td>6.0</td>\n",
       "      <td>2017-03-02</td>\n",
       "      <td>NaN</td>\n",
       "      <td>1962</td>\n",
       "      <td>57</td>\n",
       "      <td>...</td>\n",
       "      <td>NaN</td>\n",
       "      <td>0</td>\n",
       "      <td>NaN</td>\n",
       "      <td>NaN</td>\n",
       "      <td>NaN</td>\n",
       "      <td>NaN</td>\n",
       "      <td>NaN</td>\n",
       "      <td>NaN</td>\n",
       "      <td>NaN</td>\n",
       "      <td>2019</td>\n",
       "    </tr>\n",
       "  </tbody>\n",
       "</table>\n",
       "<p>2 rows × 115 columns</p>\n",
       "</div>"
      ],
      "text/plain": [
       "                                          idcode breast  data_date  \\\n",
       "274231  FFFF83BC5D8EBA54B38CD37DDD2A6B1AC8311471    NaN     201912   \n",
       "274232  FFFFAFA8D6A70AF762326FF3E6EBF5C5AEC56324    NaN     201909   \n",
       "\n",
       "              hosp BC_n  bc_gp        FOBT          OC  birth_year  age  ...  \\\n",
       "274231  1132070011    N    NaN         NaN  2017-08-08        1964   55  ...   \n",
       "274232  1101010012    0    6.0  2017-03-02         NaN        1962   57  ...   \n",
       "\n",
       "        Colonscopy_past_date Colorectal_cancer  CLNCDXDAT CLNCDXDAT1  CAUSE  \\\n",
       "274231                   NaN                 0        NaN        NaN    NaN   \n",
       "274232                   NaN                 0        NaN        NaN    NaN   \n",
       "\n",
       "        ICD  D_DATE CAUSE_CNM ICD_CODE  year  \n",
       "274231  NaN     NaN       NaN      NaN  2019  \n",
       "274232  NaN     NaN       NaN      NaN  2019  \n",
       "\n",
       "[2 rows x 115 columns]"
      ]
     },
     "execution_count": 3,
     "metadata": {},
     "output_type": "execute_result"
    }
   ],
   "source": [
    "cgrd_2017 = pd.read_csv('data\\\\cgrd_2017.csv')\n",
    "cgrd_2018 = pd.read_csv('data\\\\cgrd_2018.csv')\n",
    "cgrd_2019 = pd.read_csv('data\\\\cgrd_2019.csv')\n",
    "\n",
    "cgrd_2017.info()\n",
    "cgrd_2018.info()\n",
    "cgrd_2019.info()\n",
    "\n",
    "cgrd_2017['year'] = 2017\n",
    "cgrd_2018['year'] = 2018\n",
    "cgrd_2019['year'] = 2019\n",
    "\n",
    "cgrd_2017.tail(2)\n",
    "cgrd_2018.tail(2)\n",
    "cgrd_2019.tail(2)"
   ]
  },
  {
   "cell_type": "code",
   "execution_count": 4,
   "metadata": {},
   "outputs": [
    {
     "data": {
      "text/html": [
       "<div>\n",
       "<style scoped>\n",
       "    .dataframe tbody tr th:only-of-type {\n",
       "        vertical-align: middle;\n",
       "    }\n",
       "\n",
       "    .dataframe tbody tr th {\n",
       "        vertical-align: top;\n",
       "    }\n",
       "\n",
       "    .dataframe thead th {\n",
       "        text-align: right;\n",
       "    }\n",
       "</style>\n",
       "<table border=\"1\" class=\"dataframe\">\n",
       "  <thead>\n",
       "    <tr style=\"text-align: right;\">\n",
       "      <th></th>\n",
       "      <th>idcode</th>\n",
       "      <th>breast</th>\n",
       "      <th>data_date</th>\n",
       "      <th>hosp</th>\n",
       "      <th>BC_n</th>\n",
       "      <th>bc_gp</th>\n",
       "      <th>FOBT</th>\n",
       "      <th>OC</th>\n",
       "      <th>birth_year</th>\n",
       "      <th>age</th>\n",
       "      <th>...</th>\n",
       "      <th>Colonscopy_past_date</th>\n",
       "      <th>Colorectal_cancer</th>\n",
       "      <th>CLNCDXDAT</th>\n",
       "      <th>CLNCDXDAT1</th>\n",
       "      <th>CAUSE</th>\n",
       "      <th>ICD</th>\n",
       "      <th>D_DATE</th>\n",
       "      <th>CAUSE_CNM</th>\n",
       "      <th>ICD_CODE</th>\n",
       "      <th>year</th>\n",
       "    </tr>\n",
       "  </thead>\n",
       "  <tbody>\n",
       "    <tr>\n",
       "      <th>814131</th>\n",
       "      <td>FFFF83BC5D8EBA54B38CD37DDD2A6B1AC8311471</td>\n",
       "      <td>NaN</td>\n",
       "      <td>201912</td>\n",
       "      <td>1132070011</td>\n",
       "      <td>N</td>\n",
       "      <td>NaN</td>\n",
       "      <td>NaN</td>\n",
       "      <td>2017-08-08</td>\n",
       "      <td>1964</td>\n",
       "      <td>55</td>\n",
       "      <td>...</td>\n",
       "      <td>NaN</td>\n",
       "      <td>0</td>\n",
       "      <td>NaN</td>\n",
       "      <td>NaN</td>\n",
       "      <td>NaN</td>\n",
       "      <td>NaN</td>\n",
       "      <td>NaN</td>\n",
       "      <td>NaN</td>\n",
       "      <td>NaN</td>\n",
       "      <td>2019</td>\n",
       "    </tr>\n",
       "    <tr>\n",
       "      <th>814132</th>\n",
       "      <td>FFFFAFA8D6A70AF762326FF3E6EBF5C5AEC56324</td>\n",
       "      <td>NaN</td>\n",
       "      <td>201909</td>\n",
       "      <td>1101010012</td>\n",
       "      <td>0</td>\n",
       "      <td>6.0</td>\n",
       "      <td>2017-03-02</td>\n",
       "      <td>NaN</td>\n",
       "      <td>1962</td>\n",
       "      <td>57</td>\n",
       "      <td>...</td>\n",
       "      <td>NaN</td>\n",
       "      <td>0</td>\n",
       "      <td>NaN</td>\n",
       "      <td>NaN</td>\n",
       "      <td>NaN</td>\n",
       "      <td>NaN</td>\n",
       "      <td>NaN</td>\n",
       "      <td>NaN</td>\n",
       "      <td>NaN</td>\n",
       "      <td>2019</td>\n",
       "    </tr>\n",
       "  </tbody>\n",
       "</table>\n",
       "<p>2 rows × 115 columns</p>\n",
       "</div>"
      ],
      "text/plain": [
       "                                          idcode breast  data_date  \\\n",
       "814131  FFFF83BC5D8EBA54B38CD37DDD2A6B1AC8311471    NaN     201912   \n",
       "814132  FFFFAFA8D6A70AF762326FF3E6EBF5C5AEC56324    NaN     201909   \n",
       "\n",
       "              hosp BC_n  bc_gp        FOBT          OC  birth_year  age  ...  \\\n",
       "814131  1132070011    N    NaN         NaN  2017-08-08        1964   55  ...   \n",
       "814132  1101010012    0    6.0  2017-03-02         NaN        1962   57  ...   \n",
       "\n",
       "        Colonscopy_past_date Colorectal_cancer  CLNCDXDAT CLNCDXDAT1  CAUSE  \\\n",
       "814131                   NaN                 0        NaN        NaN    NaN   \n",
       "814132                   NaN                 0        NaN        NaN    NaN   \n",
       "\n",
       "        ICD  D_DATE CAUSE_CNM ICD_CODE  year  \n",
       "814131  NaN     NaN       NaN      NaN  2019  \n",
       "814132  NaN     NaN       NaN      NaN  2019  \n",
       "\n",
       "[2 rows x 115 columns]"
      ]
     },
     "execution_count": 4,
     "metadata": {},
     "output_type": "execute_result"
    }
   ],
   "source": [
    "## concat 3 years\n",
    "cgrd_3y = pd.concat([cgrd_2017, cgrd_2018, cgrd_2019]).reset_index(drop=True)\n",
    "cgrd_3y.tail(2)"
   ]
  },
  {
   "cell_type": "markdown",
   "metadata": {},
   "source": [
    "# Select columns"
   ]
  },
  {
   "cell_type": "code",
   "execution_count": 5,
   "metadata": {},
   "outputs": [
    {
     "data": {
      "text/html": [
       "<div>\n",
       "<style scoped>\n",
       "    .dataframe tbody tr th:only-of-type {\n",
       "        vertical-align: middle;\n",
       "    }\n",
       "\n",
       "    .dataframe tbody tr th {\n",
       "        vertical-align: top;\n",
       "    }\n",
       "\n",
       "    .dataframe thead th {\n",
       "        text-align: right;\n",
       "    }\n",
       "</style>\n",
       "<table border=\"1\" class=\"dataframe\">\n",
       "  <thead>\n",
       "    <tr style=\"text-align: right;\">\n",
       "      <th></th>\n",
       "      <th>bc_gp</th>\n",
       "      <th>age_gp</th>\n",
       "      <th>oc_gp</th>\n",
       "      <th>pas_gp</th>\n",
       "      <th>sex</th>\n",
       "      <th>year</th>\n",
       "      <th>outcome_screen</th>\n",
       "    </tr>\n",
       "  </thead>\n",
       "  <tbody>\n",
       "    <tr>\n",
       "      <th>814131</th>\n",
       "      <td>NaN</td>\n",
       "      <td>2</td>\n",
       "      <td>1</td>\n",
       "      <td>NaN</td>\n",
       "      <td>M</td>\n",
       "      <td>2019</td>\n",
       "      <td>0</td>\n",
       "    </tr>\n",
       "    <tr>\n",
       "      <th>814132</th>\n",
       "      <td>6.0</td>\n",
       "      <td>2</td>\n",
       "      <td>9</td>\n",
       "      <td>4.0</td>\n",
       "      <td>F</td>\n",
       "      <td>2019</td>\n",
       "      <td>0</td>\n",
       "    </tr>\n",
       "  </tbody>\n",
       "</table>\n",
       "</div>"
      ],
      "text/plain": [
       "        bc_gp  age_gp  oc_gp  pas_gp sex  year  outcome_screen\n",
       "814131    NaN       2      1     NaN   M  2019               0\n",
       "814132    6.0       2      9     4.0   F  2019               0"
      ]
     },
     "execution_count": 5,
     "metadata": {},
     "output_type": "execute_result"
    }
   ],
   "source": [
    "df_3y = pd.DataFrame()\n",
    "df_3y['bc_gp'] = (cgrd_3y.bc_gp)\n",
    "df_3y['age_gp'] = (cgrd_3y.age_gp)\n",
    "df_3y['oc_gp'] = (cgrd_3y.oc_gp)\n",
    "df_3y['pas_gp'] = (cgrd_3y.pas_gp)\n",
    "df_3y['sex'] = (cgrd_3y.sex)\n",
    "df_3y['year'] = (cgrd_3y.year)\n",
    "df_3y['outcome_screen'] = (cgrd_3y.outcome_screen)\n",
    "\n",
    "df_3y.tail(2)"
   ]
  },
  {
   "cell_type": "markdown",
   "metadata": {},
   "source": [
    "# Split on sex"
   ]
  },
  {
   "cell_type": "code",
   "execution_count": 6,
   "metadata": {},
   "outputs": [
    {
     "name": "stdout",
     "output_type": "stream",
     "text": [
      "<class 'pandas.core.frame.DataFrame'>\n",
      "RangeIndex: 357827 entries, 0 to 357826\n",
      "Data columns (total 4 columns):\n",
      " #   Column          Non-Null Count   Dtype\n",
      "---  ------          --------------   -----\n",
      " 0   age_gp          357827 non-null  int64\n",
      " 1   oc_gp           357827 non-null  int64\n",
      " 2   year            357827 non-null  int64\n",
      " 3   outcome_screen  357827 non-null  int64\n",
      "dtypes: int64(4)\n",
      "memory usage: 10.9 MB\n"
     ]
    }
   ],
   "source": [
    "## male\n",
    "df_3y_M = df_3y[df_3y.sex == 'M'].reset_index(drop=True)\n",
    "del df_3y_M['sex']\n",
    "del df_3y_M['bc_gp']\n",
    "del df_3y_M['pas_gp']\n",
    "\n",
    "df_3y_M.info()"
   ]
  },
  {
   "cell_type": "code",
   "execution_count": 7,
   "metadata": {},
   "outputs": [
    {
     "name": "stdout",
     "output_type": "stream",
     "text": [
      "<class 'pandas.core.frame.DataFrame'>\n",
      "RangeIndex: 456306 entries, 0 to 456305\n",
      "Data columns (total 6 columns):\n",
      " #   Column          Non-Null Count   Dtype  \n",
      "---  ------          --------------   -----  \n",
      " 0   bc_gp           456306 non-null  float64\n",
      " 1   age_gp          456306 non-null  int64  \n",
      " 2   oc_gp           456306 non-null  int64  \n",
      " 3   pas_gp          456306 non-null  float64\n",
      " 4   year            456306 non-null  int64  \n",
      " 5   outcome_screen  456306 non-null  int64  \n",
      "dtypes: float64(2), int64(4)\n",
      "memory usage: 20.9 MB\n"
     ]
    }
   ],
   "source": [
    "## female\n",
    "df_3y_F = df_3y[df_3y.sex == 'F'].reset_index(drop=True)\n",
    "del df_3y_F['sex']\n",
    "\n",
    "df_3y_F.info()"
   ]
  },
  {
   "cell_type": "markdown",
   "metadata": {},
   "source": [
    "# Correlation"
   ]
  },
  {
   "cell_type": "code",
   "execution_count": 8,
   "metadata": {},
   "outputs": [
    {
     "data": {
      "text/html": [
       "<div>\n",
       "<style scoped>\n",
       "    .dataframe tbody tr th:only-of-type {\n",
       "        vertical-align: middle;\n",
       "    }\n",
       "\n",
       "    .dataframe tbody tr th {\n",
       "        vertical-align: top;\n",
       "    }\n",
       "\n",
       "    .dataframe thead th {\n",
       "        text-align: right;\n",
       "    }\n",
       "</style>\n",
       "<table border=\"1\" class=\"dataframe\">\n",
       "  <thead>\n",
       "    <tr style=\"text-align: right;\">\n",
       "      <th></th>\n",
       "      <th>bc_gp</th>\n",
       "      <th>age_gp</th>\n",
       "      <th>oc_gp</th>\n",
       "      <th>pas_gp</th>\n",
       "      <th>outcome_screen</th>\n",
       "    </tr>\n",
       "  </thead>\n",
       "  <tbody>\n",
       "    <tr>\n",
       "      <th>bc_gp</th>\n",
       "      <td>1.000000</td>\n",
       "      <td>0.283959</td>\n",
       "      <td>0.085591</td>\n",
       "      <td>0.437091</td>\n",
       "      <td>-0.219845</td>\n",
       "    </tr>\n",
       "    <tr>\n",
       "      <th>age_gp</th>\n",
       "      <td>0.283959</td>\n",
       "      <td>1.000000</td>\n",
       "      <td>-0.015304</td>\n",
       "      <td>0.141871</td>\n",
       "      <td>0.036901</td>\n",
       "    </tr>\n",
       "    <tr>\n",
       "      <th>oc_gp</th>\n",
       "      <td>0.085591</td>\n",
       "      <td>-0.015304</td>\n",
       "      <td>1.000000</td>\n",
       "      <td>0.102484</td>\n",
       "      <td>-0.083792</td>\n",
       "    </tr>\n",
       "    <tr>\n",
       "      <th>pas_gp</th>\n",
       "      <td>0.437091</td>\n",
       "      <td>0.141871</td>\n",
       "      <td>0.102484</td>\n",
       "      <td>1.000000</td>\n",
       "      <td>-0.239786</td>\n",
       "    </tr>\n",
       "    <tr>\n",
       "      <th>outcome_screen</th>\n",
       "      <td>-0.219845</td>\n",
       "      <td>0.036901</td>\n",
       "      <td>-0.083792</td>\n",
       "      <td>-0.239786</td>\n",
       "      <td>1.000000</td>\n",
       "    </tr>\n",
       "  </tbody>\n",
       "</table>\n",
       "</div>"
      ],
      "text/plain": [
       "                     bc_gp    age_gp     oc_gp    pas_gp  outcome_screen  \n",
       "bc_gp             1.000000  0.283959  0.085591  0.437091         -0.219845\n",
       "age_gp            0.283959  1.000000 -0.015304  0.141871          0.036901\n",
       "oc_gp             0.085591 -0.015304  1.000000  0.102484         -0.083792\n",
       "pas_gp            0.437091  0.141871  0.102484  1.000000         -0.239786\n",
       "outcome_screen   -0.219845  0.036901 -0.083792 -0.239786          1.000000"
      ]
     },
     "execution_count": 8,
     "metadata": {},
     "output_type": "execute_result"
    }
   ],
   "source": [
    "df_3y_Fy = df_3y_F.iloc[:, :-2]\n",
    "df_3y_Fy['outcome_screen  '] = df_3y_F.outcome_screen\n",
    "\n",
    "df_3y_Fy.corr(method='spearman')"
   ]
  },
  {
   "cell_type": "markdown",
   "metadata": {},
   "source": [
    "# Split to training/ valid/ test"
   ]
  },
  {
   "cell_type": "code",
   "execution_count": 9,
   "metadata": {},
   "outputs": [],
   "source": [
    "X_train = df_3y_F[df_3y_F.year == 2017].iloc[:, :-2]\n",
    "y_train = df_3y_F[df_3y_F.year == 2017].outcome_screen\n",
    "\n",
    "X_valid = df_3y_F[df_3y_F.year == 2018].iloc[:, :-2]\n",
    "y_valid = df_3y_F[df_3y_F.year == 2018].outcome_screen\n",
    "\n",
    "X_test = df_3y_F[df_3y_F.year == 2019].iloc[:, :-2]\n",
    "y_test = df_3y_F[df_3y_F.year == 2019].outcome_screen"
   ]
  },
  {
   "cell_type": "markdown",
   "metadata": {},
   "source": [
    "# Model_XGBoost Classifier"
   ]
  },
  {
   "cell_type": "code",
   "execution_count": 10,
   "metadata": {
    "scrolled": true
   },
   "outputs": [
    {
     "name": "stdout",
     "output_type": "stream",
     "text": [
      "[13:56:19] WARNING: D:\\Build\\xgboost\\xgboost-1.4.2.git\\src\\learner.cc:1095: Starting in XGBoost 1.3.0, the default evaluation metric used with the objective 'binary:logistic' was changed from 'error' to 'logloss'. Explicitly set eval_metric if you'd like to restore the old behavior.\n",
      "[13:56:20] WARNING: D:\\Build\\xgboost\\xgboost-1.4.2.git\\src\\learner.cc:1095: Starting in XGBoost 1.3.0, the default evaluation metric used with the objective 'binary:logistic' was changed from 'error' to 'logloss'. Explicitly set eval_metric if you'd like to restore the old behavior.\n",
      "[13:56:21] WARNING: D:\\Build\\xgboost\\xgboost-1.4.2.git\\src\\learner.cc:1095: Starting in XGBoost 1.3.0, the default evaluation metric used with the objective 'binary:logistic' was changed from 'error' to 'logloss'. Explicitly set eval_metric if you'd like to restore the old behavior.\n",
      "[13:56:22] WARNING: D:\\Build\\xgboost\\xgboost-1.4.2.git\\src\\learner.cc:1095: Starting in XGBoost 1.3.0, the default evaluation metric used with the objective 'binary:logistic' was changed from 'error' to 'logloss'. Explicitly set eval_metric if you'd like to restore the old behavior.\n",
      "[13:56:23] WARNING: D:\\Build\\xgboost\\xgboost-1.4.2.git\\src\\learner.cc:1095: Starting in XGBoost 1.3.0, the default evaluation metric used with the objective 'binary:logistic' was changed from 'error' to 'logloss'. Explicitly set eval_metric if you'd like to restore the old behavior.\n",
      "1.4.2\n",
      "[0.74440428 0.74373259 0.7390569  0.74336782 0.73862581]\n",
      "XGBClassifier: 0.741837482396311\n",
      "--- 4.037784576416016 seconds ---\n"
     ]
    }
   ],
   "source": [
    "start_time = time.time()\n",
    "\n",
    "xgb = XGBClassifier()\n",
    "cv = cross_val_score(xgb,X_train,y_train,cv=5)\n",
    "print(xgboost.__version__)\n",
    "print(cv)\n",
    "print('XGBClassifier:', cv.mean())\n",
    "print(\"--- %s seconds ---\" % (time.time() - start_time))\n"
   ]
  },
  {
   "cell_type": "markdown",
   "metadata": {},
   "source": [
    "# Training"
   ]
  },
  {
   "cell_type": "code",
   "execution_count": 11,
   "metadata": {},
   "outputs": [
    {
     "name": "stdout",
     "output_type": "stream",
     "text": [
      "[13:56:23] WARNING: D:\\Build\\xgboost\\xgboost-1.4.2.git\\src\\learner.cc:1095: Starting in XGBoost 1.3.0, the default evaluation metric used with the objective 'binary:logistic' was changed from 'error' to 'logloss'. Explicitly set eval_metric if you'd like to restore the old behavior.\n"
     ]
    },
    {
     "data": {
      "image/png": "[encoded data removed]",
      "text/plain": [
       "<Figure size 432x288 with 2 Axes>"
      ]
     },
     "metadata": {
      "needs_background": "light"
     },
     "output_type": "display_data"
    },
    {
     "data": {
      "image/png": "[encoded data removed]",
      "text/plain": [
       "<Figure size 432x288 with 1 Axes>"
      ]
     },
     "metadata": {
      "needs_background": "light"
     },
     "output_type": "display_data"
    },
    {
     "name": "stdout",
     "output_type": "stream",
     "text": [
      "--------------- True/False Pos/Neg ---------------\n",
      "            True Neg False Pos False Neg True Pos    AUC\n",
      "F_HPA_train    94964     10020     28836    16961  0.637 \n",
      "\n",
      "[13:56:25] WARNING: D:\\Build\\xgboost\\xgboost-1.4.2.git\\src\\learner.cc:1095: Starting in XGBoost 1.3.0, the default evaluation metric used with the objective 'binary:logistic' was changed from 'error' to 'logloss'. Explicitly set eval_metric if you'd like to restore the old behavior.\n"
     ]
    },
    {
     "data": {
      "text/html": [
       "<div>\n",
       "<style scoped>\n",
       "    .dataframe tbody tr th:only-of-type {\n",
       "        vertical-align: middle;\n",
       "    }\n",
       "\n",
       "    .dataframe tbody tr th {\n",
       "        vertical-align: top;\n",
       "    }\n",
       "\n",
       "    .dataframe thead th {\n",
       "        text-align: right;\n",
       "    }\n",
       "</style>\n",
       "<table border=\"1\" class=\"dataframe\">\n",
       "  <thead>\n",
       "    <tr style=\"text-align: right;\">\n",
       "      <th></th>\n",
       "      <th>F_HPA_column</th>\n",
       "      <th>F_train_impor</th>\n",
       "    </tr>\n",
       "  </thead>\n",
       "  <tbody>\n",
       "    <tr>\n",
       "      <th>0</th>\n",
       "      <td>bc_gp</td>\n",
       "      <td>0.789834</td>\n",
       "    </tr>\n",
       "    <tr>\n",
       "      <th>3</th>\n",
       "      <td>pas_gp</td>\n",
       "      <td>0.145632</td>\n",
       "    </tr>\n",
       "    <tr>\n",
       "      <th>1</th>\n",
       "      <td>age_gp</td>\n",
       "      <td>0.045514</td>\n",
       "    </tr>\n",
       "    <tr>\n",
       "      <th>2</th>\n",
       "      <td>oc_gp</td>\n",
       "      <td>0.019020</td>\n",
       "    </tr>\n",
       "  </tbody>\n",
       "</table>\n",
       "</div>"
      ],
      "text/plain": [
       "  F_HPA_column  F_train_impor\n",
       "0        bc_gp       0.789834\n",
       "3       pas_gp       0.145632\n",
       "1       age_gp       0.045514\n",
       "2        oc_gp       0.019020"
      ]
     },
     "execution_count": 11,
     "metadata": {},
     "output_type": "execute_result"
    }
   ],
   "source": [
    "train = confusio_matrix(xgb, X_train, y_train)\n",
    "plot_roc_curve(xgb, X_train, y_train)\n",
    "\n",
    "train = train.rename(index={0: \"F_HPA_train\"})\n",
    "print('--------------- True/False Pos/Neg ---------------')\n",
    "print(train, '\\n')\n",
    "\n",
    "train_imp = get_impotances(xgb, X_train, y_train)\n",
    "train_imp.columns = ['F_HPA_column', 'F_train_impor']\n",
    "\n",
    "train_imp"
   ]
  },
  {
   "cell_type": "markdown",
   "metadata": {},
   "source": [
    "# Validation"
   ]
  },
  {
   "cell_type": "code",
   "execution_count": 12,
   "metadata": {},
   "outputs": [
    {
     "name": "stdout",
     "output_type": "stream",
     "text": [
      "[13:56:26] WARNING: D:\\Build\\xgboost\\xgboost-1.4.2.git\\src\\learner.cc:1095: Starting in XGBoost 1.3.0, the default evaluation metric used with the objective 'binary:logistic' was changed from 'error' to 'logloss'. Explicitly set eval_metric if you'd like to restore the old behavior.\n"
     ]
    },
    {
     "data": {
      "image/png": "[encoded data removed]",
      "text/plain": [
       "<Figure size 432x288 with 2 Axes>"
      ]
     },
     "metadata": {
      "needs_background": "light"
     },
     "output_type": "display_data"
    },
    {
     "data": {
      "image/png": "[encoded data removed]",
      "text/plain": [
       "<Figure size 432x288 with 1 Axes>"
      ]
     },
     "metadata": {
      "needs_background": "light"
     },
     "output_type": "display_data"
    },
    {
     "name": "stdout",
     "output_type": "stream",
     "text": [
      "--------------- True/False Pos/Neg ---------------\n",
      "            True Neg False Pos False Neg True Pos    AUC\n",
      "F_HPA_valid    95990      9618     29728    17148  0.637 \n",
      "\n",
      "[13:56:27] WARNING: D:\\Build\\xgboost\\xgboost-1.4.2.git\\src\\learner.cc:1095: Starting in XGBoost 1.3.0, the default evaluation metric used with the objective 'binary:logistic' was changed from 'error' to 'logloss'. Explicitly set eval_metric if you'd like to restore the old behavior.\n"
     ]
    },
    {
     "data": {
      "text/html": [
       "<div>\n",
       "<style scoped>\n",
       "    .dataframe tbody tr th:only-of-type {\n",
       "        vertical-align: middle;\n",
       "    }\n",
       "\n",
       "    .dataframe tbody tr th {\n",
       "        vertical-align: top;\n",
       "    }\n",
       "\n",
       "    .dataframe thead th {\n",
       "        text-align: right;\n",
       "    }\n",
       "</style>\n",
       "<table border=\"1\" class=\"dataframe\">\n",
       "  <thead>\n",
       "    <tr style=\"text-align: right;\">\n",
       "      <th></th>\n",
       "      <th>F_HPA_column</th>\n",
       "      <th>F_valid_impor</th>\n",
       "    </tr>\n",
       "  </thead>\n",
       "  <tbody>\n",
       "    <tr>\n",
       "      <th>0</th>\n",
       "      <td>bc_gp</td>\n",
       "      <td>0.757231</td>\n",
       "    </tr>\n",
       "    <tr>\n",
       "      <th>3</th>\n",
       "      <td>pas_gp</td>\n",
       "      <td>0.174677</td>\n",
       "    </tr>\n",
       "    <tr>\n",
       "      <th>1</th>\n",
       "      <td>age_gp</td>\n",
       "      <td>0.051257</td>\n",
       "    </tr>\n",
       "    <tr>\n",
       "      <th>2</th>\n",
       "      <td>oc_gp</td>\n",
       "      <td>0.016835</td>\n",
       "    </tr>\n",
       "  </tbody>\n",
       "</table>\n",
       "</div>"
      ],
      "text/plain": [
       "  F_HPA_column  F_valid_impor\n",
       "0        bc_gp       0.757231\n",
       "3       pas_gp       0.174677\n",
       "1       age_gp       0.051257\n",
       "2        oc_gp       0.016835"
      ]
     },
     "execution_count": 12,
     "metadata": {},
     "output_type": "execute_result"
    }
   ],
   "source": [
    "valid = confusio_matrix(xgb, X_valid, y_valid)\n",
    "plot_roc_curve(xgb, X_valid, y_valid)\n",
    "\n",
    "valid = valid.rename(index={0: \"F_HPA_valid\"})\n",
    "print('--------------- True/False Pos/Neg ---------------')\n",
    "print(valid, '\\n')\n",
    "\n",
    "valid_imp = get_impotances(xgb, X_valid, y_valid)\n",
    "valid_imp.columns = ['F_HPA_column', 'F_valid_impor']\n",
    "valid_imp"
   ]
  },
  {
   "cell_type": "markdown",
   "metadata": {},
   "source": [
    "# Test"
   ]
  },
  {
   "cell_type": "code",
   "execution_count": 13,
   "metadata": {},
   "outputs": [
    {
     "name": "stdout",
     "output_type": "stream",
     "text": [
      "[13:56:29] WARNING: D:\\Build\\xgboost\\xgboost-1.4.2.git\\src\\learner.cc:1095: Starting in XGBoost 1.3.0, the default evaluation metric used with the objective 'binary:logistic' was changed from 'error' to 'logloss'. Explicitly set eval_metric if you'd like to restore the old behavior.\n"
     ]
    },
    {
     "data": {
      "image/png": "[encoded data removed]",
      "text/plain": [
       "<Figure size 432x288 with 2 Axes>"
      ]
     },
     "metadata": {
      "needs_background": "light"
     },
     "output_type": "display_data"
    },
    {
     "data": {
      "image/png": "[encoded data removed]",
      "text/plain": [
       "<Figure size 432x288 with 1 Axes>"
      ]
     },
     "metadata": {
      "needs_background": "light"
     },
     "output_type": "display_data"
    },
    {
     "name": "stdout",
     "output_type": "stream",
     "text": [
      "--------------- True/False Pos/Neg ---------------\n",
      "           True Neg False Pos False Neg True Pos    AUC\n",
      "F_HPA_test    98238      9832     28148    16823  0.642 \n",
      "\n",
      "[13:56:30] WARNING: D:\\Build\\xgboost\\xgboost-1.4.2.git\\src\\learner.cc:1095: Starting in XGBoost 1.3.0, the default evaluation metric used with the objective 'binary:logistic' was changed from 'error' to 'logloss'. Explicitly set eval_metric if you'd like to restore the old behavior.\n"
     ]
    },
    {
     "data": {
      "text/html": [
       "<div>\n",
       "<style scoped>\n",
       "    .dataframe tbody tr th:only-of-type {\n",
       "        vertical-align: middle;\n",
       "    }\n",
       "\n",
       "    .dataframe tbody tr th {\n",
       "        vertical-align: top;\n",
       "    }\n",
       "\n",
       "    .dataframe thead th {\n",
       "        text-align: right;\n",
       "    }\n",
       "</style>\n",
       "<table border=\"1\" class=\"dataframe\">\n",
       "  <thead>\n",
       "    <tr style=\"text-align: right;\">\n",
       "      <th></th>\n",
       "      <th>F_HPA_column</th>\n",
       "      <th>F_test_impor</th>\n",
       "    </tr>\n",
       "  </thead>\n",
       "  <tbody>\n",
       "    <tr>\n",
       "      <th>0</th>\n",
       "      <td>bc_gp</td>\n",
       "      <td>0.788143</td>\n",
       "    </tr>\n",
       "    <tr>\n",
       "      <th>3</th>\n",
       "      <td>pas_gp</td>\n",
       "      <td>0.149830</td>\n",
       "    </tr>\n",
       "    <tr>\n",
       "      <th>1</th>\n",
       "      <td>age_gp</td>\n",
       "      <td>0.045355</td>\n",
       "    </tr>\n",
       "    <tr>\n",
       "      <th>2</th>\n",
       "      <td>oc_gp</td>\n",
       "      <td>0.016672</td>\n",
       "    </tr>\n",
       "  </tbody>\n",
       "</table>\n",
       "</div>"
      ],
      "text/plain": [
       "  F_HPA_column  F_test_impor\n",
       "0        bc_gp      0.788143\n",
       "3       pas_gp      0.149830\n",
       "1       age_gp      0.045355\n",
       "2        oc_gp      0.016672"
      ]
     },
     "execution_count": 13,
     "metadata": {},
     "output_type": "execute_result"
    }
   ],
   "source": [
    "test = confusio_matrix(xgb, X_test, y_test)\n",
    "plot_roc_curve(xgb, X_test, y_test)\n",
    "\n",
    "test = test.rename(index={0: \"F_HPA_test\"})\n",
    "print('--------------- True/False Pos/Neg ---------------')\n",
    "print(test, '\\n')\n",
    "\n",
    "test_imp = get_impotances(xgb, X_test, y_test)\n",
    "test_imp.columns = ['F_HPA_column', 'F_test_impor']\n",
    "test_imp"
   ]
  },
  {
   "cell_type": "markdown",
   "metadata": {},
   "source": [
    "# Result"
   ]
  },
  {
   "cell_type": "code",
   "execution_count": 14,
   "metadata": {},
   "outputs": [
    {
     "name": "stdout",
     "output_type": "stream",
     "text": [
      "--- Female_HPA result---\n"
     ]
    },
    {
     "data": {
      "text/html": [
       "<div>\n",
       "<style scoped>\n",
       "    .dataframe tbody tr th:only-of-type {\n",
       "        vertical-align: middle;\n",
       "    }\n",
       "\n",
       "    .dataframe tbody tr th {\n",
       "        vertical-align: top;\n",
       "    }\n",
       "\n",
       "    .dataframe thead th {\n",
       "        text-align: right;\n",
       "    }\n",
       "</style>\n",
       "<table border=\"1\" class=\"dataframe\">\n",
       "  <thead>\n",
       "    <tr style=\"text-align: right;\">\n",
       "      <th></th>\n",
       "      <th>True Neg</th>\n",
       "      <th>False Pos</th>\n",
       "      <th>False Neg</th>\n",
       "      <th>True Pos</th>\n",
       "      <th>AUC</th>\n",
       "    </tr>\n",
       "  </thead>\n",
       "  <tbody>\n",
       "    <tr>\n",
       "      <th>F_HPA_train</th>\n",
       "      <td>94964</td>\n",
       "      <td>10020</td>\n",
       "      <td>28836</td>\n",
       "      <td>16961</td>\n",
       "      <td>0.637</td>\n",
       "    </tr>\n",
       "    <tr>\n",
       "      <th>F_HPA_valid</th>\n",
       "      <td>95990</td>\n",
       "      <td>9618</td>\n",
       "      <td>29728</td>\n",
       "      <td>17148</td>\n",
       "      <td>0.637</td>\n",
       "    </tr>\n",
       "    <tr>\n",
       "      <th>F_HPA_test</th>\n",
       "      <td>98238</td>\n",
       "      <td>9832</td>\n",
       "      <td>28148</td>\n",
       "      <td>16823</td>\n",
       "      <td>0.642</td>\n",
       "    </tr>\n",
       "  </tbody>\n",
       "</table>\n",
       "</div>"
      ],
      "text/plain": [
       "            True Neg False Pos False Neg True Pos    AUC\n",
       "F_HPA_train    94964     10020     28836    16961  0.637\n",
       "F_HPA_valid    95990      9618     29728    17148  0.637\n",
       "F_HPA_test     98238      9832     28148    16823  0.642"
      ]
     },
     "execution_count": 14,
     "metadata": {},
     "output_type": "execute_result"
    }
   ],
   "source": [
    "print('--- Female_HPA result---')\n",
    "result = pd.concat([train, valid, test])\n",
    "result "
   ]
  },
  {
   "cell_type": "code",
   "execution_count": 15,
   "metadata": {},
   "outputs": [
    {
     "data": {
      "text/html": [
       "<div>\n",
       "<style scoped>\n",
       "    .dataframe tbody tr th:only-of-type {\n",
       "        vertical-align: middle;\n",
       "    }\n",
       "\n",
       "    .dataframe tbody tr th {\n",
       "        vertical-align: top;\n",
       "    }\n",
       "\n",
       "    .dataframe thead th {\n",
       "        text-align: right;\n",
       "    }\n",
       "</style>\n",
       "<table border=\"1\" class=\"dataframe\">\n",
       "  <thead>\n",
       "    <tr style=\"text-align: right;\">\n",
       "      <th></th>\n",
       "      <th>F_HPA_column</th>\n",
       "      <th>F_train_impor</th>\n",
       "      <th>F_valid_impor</th>\n",
       "      <th>F_test_impor</th>\n",
       "    </tr>\n",
       "  </thead>\n",
       "  <tbody>\n",
       "    <tr>\n",
       "      <th>0</th>\n",
       "      <td>bc_gp</td>\n",
       "      <td>0.789834</td>\n",
       "      <td>0.757231</td>\n",
       "      <td>0.788143</td>\n",
       "    </tr>\n",
       "    <tr>\n",
       "      <th>1</th>\n",
       "      <td>pas_gp</td>\n",
       "      <td>0.145632</td>\n",
       "      <td>0.174677</td>\n",
       "      <td>0.149830</td>\n",
       "    </tr>\n",
       "    <tr>\n",
       "      <th>2</th>\n",
       "      <td>age_gp</td>\n",
       "      <td>0.045514</td>\n",
       "      <td>0.051257</td>\n",
       "      <td>0.045355</td>\n",
       "    </tr>\n",
       "    <tr>\n",
       "      <th>3</th>\n",
       "      <td>oc_gp</td>\n",
       "      <td>0.019020</td>\n",
       "      <td>0.016835</td>\n",
       "      <td>0.016672</td>\n",
       "    </tr>\n",
       "  </tbody>\n",
       "</table>\n",
       "</div>"
      ],
      "text/plain": [
       "  F_HPA_column  F_train_impor  F_valid_impor  F_test_impor\n",
       "0        bc_gp       0.789834       0.757231      0.788143\n",
       "1       pas_gp       0.145632       0.174677      0.149830\n",
       "2       age_gp       0.045514       0.051257      0.045355\n",
       "3        oc_gp       0.019020       0.016835      0.016672"
      ]
     },
     "execution_count": 15,
     "metadata": {},
     "output_type": "execute_result"
    }
   ],
   "source": [
    "result1 = train_imp.merge(valid_imp, left_on='F_HPA_column', right_on='F_HPA_column')\n",
    "result1 = result1.merge(test_imp, left_on='F_HPA_column', right_on='F_HPA_column')\n",
    "result1"
   ]
  },
  {
   "cell_type": "code",
   "execution_count": null,
   "metadata": {},
   "outputs": [],
   "source": []
  }
 ],
 "metadata": {
  "kernelspec": {
   "display_name": "Python 3",
   "language": "python",
   "name": "python3"
  },
  "language_info": {
   "codemirror_mode": {
    "name": "ipython",
    "version": 3
   },
   "file_extension": ".py",
   "mimetype": "text/x-python",
   "name": "python",
   "nbconvert_exporter": "python",
   "pygments_lexer": "ipython3",
   "version": "3.8.5"
  }
 },
 "nbformat": 4,
 "nbformat_minor": 4
}
